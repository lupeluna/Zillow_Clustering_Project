{
 "cells": [
  {
   "cell_type": "markdown",
   "metadata": {},
   "source": [
    "# Zillow Clustering Project\n",
    "\n",
    "Lupe Luna  |  June 28, 2021"
   ]
  },
  {
   "cell_type": "code",
   "execution_count": null,
   "metadata": {},
   "outputs": [],
   "source": []
  },
  {
   "cell_type": "code",
   "execution_count": 1,
   "metadata": {},
   "outputs": [],
   "source": [
    "import pandas as pd\n",
    "import numpy as np\n",
    "import matplotlib.pyplot as plt\n",
    "from pydataset import data\n",
    "import seaborn as sns\n",
    "import scipy.stats as stats\n",
    "import viz\n",
    "from sklearn.cluster import KMeans\n",
    "import acquire\n",
    "import prepare\n",
    "import explore\n",
    "from sklearn.model_selection import train_test_split\n",
    "from sklearn.preprocessing import PolynomialFeatures, MinMaxScaler\n",
    "import scipy.stats as stats\n",
    "from sklearn.metrics import mean_squared_error\n",
    "from sklearn.linear_model import LinearRegression, LassoLars, TweedieRegressor\n",
    "import math\n",
    "from sklearn.metrics import explained_variance_score\n",
    "\n",
    "\n",
    "# acquire\n",
    "from env import host, user, password\n",
    "from pydataset import data\n",
    "\n",
    "# turn off pink warning boxes\n",
    "import warnings\n",
    "warnings.filterwarnings(\"ignore\")\n",
    "\n",
    "from sklearn.model_selection import train_test_split"
   ]
  },
  {
   "cell_type": "markdown",
   "metadata": {},
   "source": [
    "## Project Summary\n",
    "\n",
    "### Overview\n",
    "   *  Acquire Zillow dataset for properties_2017\n",
    "    *  Clean and prep data for exploration and modeling\n",
    "    *  Identify the driver for logerror (Zestimate errors)\n",
    "    *  See if clustering improved the models\n",
    "\n",
    "\n",
    "### Goal\n",
    "\n",
    "   * Identify the drivers for errors in Zestimates by incorporating clustering methodologies.\n",
    "    *  Document the process and analysis throughout the data science pipeline.\n",
    "    *  Demonstrate our process and articulate the information that was discovered. Deliverables:\n",
    "    *  README.md file containing overall project information, how to reproduce work, and notes from project planning.\n",
    "    *  Jupyter Notebook Report detailing the pipeline process.\n",
    "    *  Python modules that automate the data acquistion, preparation, and exploration process."
   ]
  },
  {
   "cell_type": "markdown",
   "metadata": {},
   "source": [
    "## Acquire Zillow Data\n",
    "Here I will acquire the properties_2017 from the Zillow database.\n",
    " * pull the data and see the information that we are working with on the data pulled\n",
    " * Completed data summarization (.shape, .value_counts(), .info())\n",
    " * Review the information regarding data types and see if we are missing data by checking for null values\n",
    " * Describe the dataset (quick snapshot showing stats on columns w/ numeric data types)\n",
    " * Plot a few histograms to get a look at the distribution of some of our variables"
   ]
  },
  {
   "cell_type": "code",
   "execution_count": 2,
   "metadata": {},
   "outputs": [
    {
     "data": {
      "text/html": [
       "<div>\n",
       "<style scoped>\n",
       "    .dataframe tbody tr th:only-of-type {\n",
       "        vertical-align: middle;\n",
       "    }\n",
       "\n",
       "    .dataframe tbody tr th {\n",
       "        vertical-align: top;\n",
       "    }\n",
       "\n",
       "    .dataframe thead th {\n",
       "        text-align: right;\n",
       "    }\n",
       "</style>\n",
       "<table border=\"1\" class=\"dataframe\">\n",
       "  <thead>\n",
       "    <tr style=\"text-align: right;\">\n",
       "      <th></th>\n",
       "      <th>parcelid</th>\n",
       "      <th>logerror</th>\n",
       "      <th>bathroomcnt</th>\n",
       "      <th>bedroomcnt</th>\n",
       "      <th>calculatedfinishedsquarefeet</th>\n",
       "      <th>fips</th>\n",
       "      <th>latitude</th>\n",
       "      <th>longitude</th>\n",
       "      <th>lotsizesquarefeet</th>\n",
       "      <th>regionidcity</th>\n",
       "      <th>regionidcounty</th>\n",
       "      <th>regionidzip</th>\n",
       "      <th>yearbuilt</th>\n",
       "      <th>structuretaxvaluedollarcnt</th>\n",
       "      <th>taxvaluedollarcnt</th>\n",
       "      <th>landtaxvaluedollarcnt</th>\n",
       "      <th>taxamount</th>\n",
       "    </tr>\n",
       "  </thead>\n",
       "  <tbody>\n",
       "    <tr>\n",
       "      <th>0</th>\n",
       "      <td>14297519</td>\n",
       "      <td>0.025595</td>\n",
       "      <td>3.5</td>\n",
       "      <td>4.0</td>\n",
       "      <td>3100.0</td>\n",
       "      <td>6059.0</td>\n",
       "      <td>33634931.0</td>\n",
       "      <td>-117869207.0</td>\n",
       "      <td>4506.0</td>\n",
       "      <td>53571.0</td>\n",
       "      <td>1286.0</td>\n",
       "      <td>96978.0</td>\n",
       "      <td>1998.0</td>\n",
       "      <td>485713.0</td>\n",
       "      <td>1023282.0</td>\n",
       "      <td>537569.0</td>\n",
       "      <td>11013.72</td>\n",
       "    </tr>\n",
       "    <tr>\n",
       "      <th>1</th>\n",
       "      <td>17052889</td>\n",
       "      <td>0.055619</td>\n",
       "      <td>1.0</td>\n",
       "      <td>2.0</td>\n",
       "      <td>1465.0</td>\n",
       "      <td>6111.0</td>\n",
       "      <td>34449266.0</td>\n",
       "      <td>-119281531.0</td>\n",
       "      <td>12647.0</td>\n",
       "      <td>13091.0</td>\n",
       "      <td>2061.0</td>\n",
       "      <td>97099.0</td>\n",
       "      <td>1967.0</td>\n",
       "      <td>88000.0</td>\n",
       "      <td>464000.0</td>\n",
       "      <td>376000.0</td>\n",
       "      <td>5672.48</td>\n",
       "    </tr>\n",
       "    <tr>\n",
       "      <th>2</th>\n",
       "      <td>14186244</td>\n",
       "      <td>0.005383</td>\n",
       "      <td>2.0</td>\n",
       "      <td>3.0</td>\n",
       "      <td>1243.0</td>\n",
       "      <td>6059.0</td>\n",
       "      <td>33886168.0</td>\n",
       "      <td>-117823170.0</td>\n",
       "      <td>8432.0</td>\n",
       "      <td>21412.0</td>\n",
       "      <td>1286.0</td>\n",
       "      <td>97078.0</td>\n",
       "      <td>1962.0</td>\n",
       "      <td>85289.0</td>\n",
       "      <td>564778.0</td>\n",
       "      <td>479489.0</td>\n",
       "      <td>6488.30</td>\n",
       "    </tr>\n",
       "  </tbody>\n",
       "</table>\n",
       "</div>"
      ],
      "text/plain": [
       "   parcelid  logerror  bathroomcnt  bedroomcnt  calculatedfinishedsquarefeet  \\\n",
       "0  14297519  0.025595          3.5         4.0                        3100.0   \n",
       "1  17052889  0.055619          1.0         2.0                        1465.0   \n",
       "2  14186244  0.005383          2.0         3.0                        1243.0   \n",
       "\n",
       "     fips    latitude    longitude  lotsizesquarefeet  regionidcity  \\\n",
       "0  6059.0  33634931.0 -117869207.0             4506.0       53571.0   \n",
       "1  6111.0  34449266.0 -119281531.0            12647.0       13091.0   \n",
       "2  6059.0  33886168.0 -117823170.0             8432.0       21412.0   \n",
       "\n",
       "   regionidcounty  regionidzip  yearbuilt  structuretaxvaluedollarcnt  \\\n",
       "0          1286.0      96978.0     1998.0                    485713.0   \n",
       "1          2061.0      97099.0     1967.0                     88000.0   \n",
       "2          1286.0      97078.0     1962.0                     85289.0   \n",
       "\n",
       "   taxvaluedollarcnt  landtaxvaluedollarcnt  taxamount  \n",
       "0          1023282.0               537569.0   11013.72  \n",
       "1           464000.0               376000.0    5672.48  \n",
       "2           564778.0               479489.0    6488.30  "
      ]
     },
     "execution_count": 2,
     "metadata": {},
     "output_type": "execute_result"
    }
   ],
   "source": [
    "# Acquire Zillow Data\n",
    "df = acquire.get_zillow_data()\n",
    "df.head(3)"
   ]
  },
  {
   "cell_type": "code",
   "execution_count": 3,
   "metadata": {},
   "outputs": [
    {
     "data": {
      "text/html": [
       "<div>\n",
       "<style scoped>\n",
       "    .dataframe tbody tr th:only-of-type {\n",
       "        vertical-align: middle;\n",
       "    }\n",
       "\n",
       "    .dataframe tbody tr th {\n",
       "        vertical-align: top;\n",
       "    }\n",
       "\n",
       "    .dataframe thead th {\n",
       "        text-align: right;\n",
       "    }\n",
       "</style>\n",
       "<table border=\"1\" class=\"dataframe\">\n",
       "  <thead>\n",
       "    <tr style=\"text-align: right;\">\n",
       "      <th></th>\n",
       "      <th>parcelid</th>\n",
       "      <th>logerror</th>\n",
       "      <th>bathroomcnt</th>\n",
       "      <th>bedroomcnt</th>\n",
       "      <th>calculatedfinishedsquarefeet</th>\n",
       "      <th>fips</th>\n",
       "      <th>latitude</th>\n",
       "      <th>longitude</th>\n",
       "      <th>lotsizesquarefeet</th>\n",
       "      <th>regionidcity</th>\n",
       "      <th>regionidcounty</th>\n",
       "      <th>regionidzip</th>\n",
       "      <th>yearbuilt</th>\n",
       "      <th>structuretaxvaluedollarcnt</th>\n",
       "      <th>taxvaluedollarcnt</th>\n",
       "      <th>landtaxvaluedollarcnt</th>\n",
       "      <th>taxamount</th>\n",
       "    </tr>\n",
       "  </thead>\n",
       "  <tbody>\n",
       "    <tr>\n",
       "      <th>count</th>\n",
       "      <td>5.244200e+04</td>\n",
       "      <td>52442.000000</td>\n",
       "      <td>52442.000000</td>\n",
       "      <td>52442.000000</td>\n",
       "      <td>52360.000000</td>\n",
       "      <td>52442.000000</td>\n",
       "      <td>5.244200e+04</td>\n",
       "      <td>5.244200e+04</td>\n",
       "      <td>5.207300e+04</td>\n",
       "      <td>51405.000000</td>\n",
       "      <td>52442.000000</td>\n",
       "      <td>52416.000000</td>\n",
       "      <td>52326.000000</td>\n",
       "      <td>5.235800e+04</td>\n",
       "      <td>5.244100e+04</td>\n",
       "      <td>5.244100e+04</td>\n",
       "      <td>52438.000000</td>\n",
       "    </tr>\n",
       "    <tr>\n",
       "      <th>mean</th>\n",
       "      <td>1.299912e+07</td>\n",
       "      <td>0.018294</td>\n",
       "      <td>2.299397</td>\n",
       "      <td>3.300675</td>\n",
       "      <td>1922.874083</td>\n",
       "      <td>6049.131917</td>\n",
       "      <td>3.402254e+07</td>\n",
       "      <td>-1.181942e+08</td>\n",
       "      <td>1.133952e+04</td>\n",
       "      <td>33503.090225</td>\n",
       "      <td>2524.598642</td>\n",
       "      <td>96635.843559</td>\n",
       "      <td>1963.393820</td>\n",
       "      <td>1.965315e+05</td>\n",
       "      <td>5.296830e+05</td>\n",
       "      <td>3.334626e+05</td>\n",
       "      <td>6453.451945</td>\n",
       "    </tr>\n",
       "    <tr>\n",
       "      <th>std</th>\n",
       "      <td>3.411412e+06</td>\n",
       "      <td>0.177502</td>\n",
       "      <td>1.022764</td>\n",
       "      <td>0.949086</td>\n",
       "      <td>1004.363491</td>\n",
       "      <td>21.028933</td>\n",
       "      <td>2.739761e+05</td>\n",
       "      <td>3.566615e+05</td>\n",
       "      <td>8.674680e+04</td>\n",
       "      <td>49176.135422</td>\n",
       "      <td>803.986272</td>\n",
       "      <td>4605.063649</td>\n",
       "      <td>23.133355</td>\n",
       "      <td>2.543382e+05</td>\n",
       "      <td>7.518883e+05</td>\n",
       "      <td>5.705227e+05</td>\n",
       "      <td>8755.495483</td>\n",
       "    </tr>\n",
       "    <tr>\n",
       "      <th>min</th>\n",
       "      <td>1.071186e+07</td>\n",
       "      <td>-4.655420</td>\n",
       "      <td>0.000000</td>\n",
       "      <td>0.000000</td>\n",
       "      <td>128.000000</td>\n",
       "      <td>6037.000000</td>\n",
       "      <td>3.334062e+07</td>\n",
       "      <td>-1.194754e+08</td>\n",
       "      <td>2.360000e+02</td>\n",
       "      <td>3491.000000</td>\n",
       "      <td>1286.000000</td>\n",
       "      <td>95982.000000</td>\n",
       "      <td>1878.000000</td>\n",
       "      <td>1.290000e+02</td>\n",
       "      <td>1.000000e+03</td>\n",
       "      <td>1.610000e+02</td>\n",
       "      <td>49.180000</td>\n",
       "    </tr>\n",
       "    <tr>\n",
       "      <th>25%</th>\n",
       "      <td>1.151030e+07</td>\n",
       "      <td>-0.024639</td>\n",
       "      <td>2.000000</td>\n",
       "      <td>3.000000</td>\n",
       "      <td>1268.000000</td>\n",
       "      <td>6037.000000</td>\n",
       "      <td>3.382691e+07</td>\n",
       "      <td>-1.184007e+08</td>\n",
       "      <td>5.583000e+03</td>\n",
       "      <td>12447.000000</td>\n",
       "      <td>1286.000000</td>\n",
       "      <td>96206.000000</td>\n",
       "      <td>1950.000000</td>\n",
       "      <td>7.707175e+04</td>\n",
       "      <td>1.937500e+05</td>\n",
       "      <td>7.602600e+04</td>\n",
       "      <td>2656.250000</td>\n",
       "    </tr>\n",
       "    <tr>\n",
       "      <th>50%</th>\n",
       "      <td>1.257766e+07</td>\n",
       "      <td>0.007010</td>\n",
       "      <td>2.000000</td>\n",
       "      <td>3.000000</td>\n",
       "      <td>1659.000000</td>\n",
       "      <td>6037.000000</td>\n",
       "      <td>3.402377e+07</td>\n",
       "      <td>-1.181531e+08</td>\n",
       "      <td>6.840000e+03</td>\n",
       "      <td>24812.000000</td>\n",
       "      <td>3101.000000</td>\n",
       "      <td>96412.000000</td>\n",
       "      <td>1961.000000</td>\n",
       "      <td>1.318070e+05</td>\n",
       "      <td>3.736120e+05</td>\n",
       "      <td>2.180250e+05</td>\n",
       "      <td>4647.730000</td>\n",
       "    </tr>\n",
       "    <tr>\n",
       "      <th>75%</th>\n",
       "      <td>1.412951e+07</td>\n",
       "      <td>0.040691</td>\n",
       "      <td>3.000000</td>\n",
       "      <td>4.000000</td>\n",
       "      <td>2306.000000</td>\n",
       "      <td>6059.000000</td>\n",
       "      <td>3.418715e+07</td>\n",
       "      <td>-1.179292e+08</td>\n",
       "      <td>8.798000e+03</td>\n",
       "      <td>40227.000000</td>\n",
       "      <td>3101.000000</td>\n",
       "      <td>96995.000000</td>\n",
       "      <td>1979.000000</td>\n",
       "      <td>2.263198e+05</td>\n",
       "      <td>6.193010e+05</td>\n",
       "      <td>4.086000e+05</td>\n",
       "      <td>7377.445000</td>\n",
       "    </tr>\n",
       "    <tr>\n",
       "      <th>max</th>\n",
       "      <td>1.676878e+08</td>\n",
       "      <td>5.262999</td>\n",
       "      <td>18.000000</td>\n",
       "      <td>14.000000</td>\n",
       "      <td>21929.000000</td>\n",
       "      <td>6111.000000</td>\n",
       "      <td>3.481877e+07</td>\n",
       "      <td>-1.175546e+08</td>\n",
       "      <td>6.971010e+06</td>\n",
       "      <td>396556.000000</td>\n",
       "      <td>3101.000000</td>\n",
       "      <td>399675.000000</td>\n",
       "      <td>2016.000000</td>\n",
       "      <td>9.164901e+06</td>\n",
       "      <td>4.906124e+07</td>\n",
       "      <td>4.895220e+07</td>\n",
       "      <td>586639.300000</td>\n",
       "    </tr>\n",
       "  </tbody>\n",
       "</table>\n",
       "</div>"
      ],
      "text/plain": [
       "           parcelid      logerror   bathroomcnt    bedroomcnt  \\\n",
       "count  5.244200e+04  52442.000000  52442.000000  52442.000000   \n",
       "mean   1.299912e+07      0.018294      2.299397      3.300675   \n",
       "std    3.411412e+06      0.177502      1.022764      0.949086   \n",
       "min    1.071186e+07     -4.655420      0.000000      0.000000   \n",
       "25%    1.151030e+07     -0.024639      2.000000      3.000000   \n",
       "50%    1.257766e+07      0.007010      2.000000      3.000000   \n",
       "75%    1.412951e+07      0.040691      3.000000      4.000000   \n",
       "max    1.676878e+08      5.262999     18.000000     14.000000   \n",
       "\n",
       "       calculatedfinishedsquarefeet          fips      latitude     longitude  \\\n",
       "count                  52360.000000  52442.000000  5.244200e+04  5.244200e+04   \n",
       "mean                    1922.874083   6049.131917  3.402254e+07 -1.181942e+08   \n",
       "std                     1004.363491     21.028933  2.739761e+05  3.566615e+05   \n",
       "min                      128.000000   6037.000000  3.334062e+07 -1.194754e+08   \n",
       "25%                     1268.000000   6037.000000  3.382691e+07 -1.184007e+08   \n",
       "50%                     1659.000000   6037.000000  3.402377e+07 -1.181531e+08   \n",
       "75%                     2306.000000   6059.000000  3.418715e+07 -1.179292e+08   \n",
       "max                    21929.000000   6111.000000  3.481877e+07 -1.175546e+08   \n",
       "\n",
       "       lotsizesquarefeet   regionidcity  regionidcounty    regionidzip  \\\n",
       "count       5.207300e+04   51405.000000    52442.000000   52416.000000   \n",
       "mean        1.133952e+04   33503.090225     2524.598642   96635.843559   \n",
       "std         8.674680e+04   49176.135422      803.986272    4605.063649   \n",
       "min         2.360000e+02    3491.000000     1286.000000   95982.000000   \n",
       "25%         5.583000e+03   12447.000000     1286.000000   96206.000000   \n",
       "50%         6.840000e+03   24812.000000     3101.000000   96412.000000   \n",
       "75%         8.798000e+03   40227.000000     3101.000000   96995.000000   \n",
       "max         6.971010e+06  396556.000000     3101.000000  399675.000000   \n",
       "\n",
       "          yearbuilt  structuretaxvaluedollarcnt  taxvaluedollarcnt  \\\n",
       "count  52326.000000                5.235800e+04       5.244100e+04   \n",
       "mean    1963.393820                1.965315e+05       5.296830e+05   \n",
       "std       23.133355                2.543382e+05       7.518883e+05   \n",
       "min     1878.000000                1.290000e+02       1.000000e+03   \n",
       "25%     1950.000000                7.707175e+04       1.937500e+05   \n",
       "50%     1961.000000                1.318070e+05       3.736120e+05   \n",
       "75%     1979.000000                2.263198e+05       6.193010e+05   \n",
       "max     2016.000000                9.164901e+06       4.906124e+07   \n",
       "\n",
       "       landtaxvaluedollarcnt      taxamount  \n",
       "count           5.244100e+04   52438.000000  \n",
       "mean            3.334626e+05    6453.451945  \n",
       "std             5.705227e+05    8755.495483  \n",
       "min             1.610000e+02      49.180000  \n",
       "25%             7.602600e+04    2656.250000  \n",
       "50%             2.180250e+05    4647.730000  \n",
       "75%             4.086000e+05    7377.445000  \n",
       "max             4.895220e+07  586639.300000  "
      ]
     },
     "execution_count": 3,
     "metadata": {},
     "output_type": "execute_result"
    }
   ],
   "source": [
    "df.describe()"
   ]
  },
  {
   "cell_type": "code",
   "execution_count": 4,
   "metadata": {},
   "outputs": [
    {
     "data": {
      "text/plain": [
       "(52442, 17)"
      ]
     },
     "execution_count": 4,
     "metadata": {},
     "output_type": "execute_result"
    }
   ],
   "source": [
    "df.shape"
   ]
  },
  {
   "cell_type": "code",
   "execution_count": 5,
   "metadata": {},
   "outputs": [
    {
     "name": "stdout",
     "output_type": "stream",
     "text": [
      "<class 'pandas.core.frame.DataFrame'>\n",
      "RangeIndex: 52442 entries, 0 to 52441\n",
      "Data columns (total 17 columns):\n",
      " #   Column                        Non-Null Count  Dtype  \n",
      "---  ------                        --------------  -----  \n",
      " 0   parcelid                      52442 non-null  int64  \n",
      " 1   logerror                      52442 non-null  float64\n",
      " 2   bathroomcnt                   52442 non-null  float64\n",
      " 3   bedroomcnt                    52442 non-null  float64\n",
      " 4   calculatedfinishedsquarefeet  52360 non-null  float64\n",
      " 5   fips                          52442 non-null  float64\n",
      " 6   latitude                      52442 non-null  float64\n",
      " 7   longitude                     52442 non-null  float64\n",
      " 8   lotsizesquarefeet             52073 non-null  float64\n",
      " 9   regionidcity                  51405 non-null  float64\n",
      " 10  regionidcounty                52442 non-null  float64\n",
      " 11  regionidzip                   52416 non-null  float64\n",
      " 12  yearbuilt                     52326 non-null  float64\n",
      " 13  structuretaxvaluedollarcnt    52358 non-null  float64\n",
      " 14  taxvaluedollarcnt             52441 non-null  float64\n",
      " 15  landtaxvaluedollarcnt         52441 non-null  float64\n",
      " 16  taxamount                     52438 non-null  float64\n",
      "dtypes: float64(16), int64(1)\n",
      "memory usage: 6.8 MB\n"
     ]
    }
   ],
   "source": [
    "df.info()"
   ]
  },
  {
   "cell_type": "code",
   "execution_count": 6,
   "metadata": {},
   "outputs": [
    {
     "data": {
      "text/plain": [
       "parcelid                           0\n",
       "logerror                           0\n",
       "bathroomcnt                        0\n",
       "bedroomcnt                         0\n",
       "calculatedfinishedsquarefeet      82\n",
       "fips                               0\n",
       "latitude                           0\n",
       "longitude                          0\n",
       "lotsizesquarefeet                369\n",
       "regionidcity                    1037\n",
       "regionidcounty                     0\n",
       "regionidzip                       26\n",
       "yearbuilt                        116\n",
       "structuretaxvaluedollarcnt        84\n",
       "taxvaluedollarcnt                  1\n",
       "landtaxvaluedollarcnt              1\n",
       "taxamount                          4\n",
       "dtype: int64"
      ]
     },
     "execution_count": 6,
     "metadata": {},
     "output_type": "execute_result"
    }
   ],
   "source": [
    "# Check for null values\n",
    "df.isna().sum()"
   ]
  },
  {
   "cell_type": "code",
   "execution_count": null,
   "metadata": {},
   "outputs": [],
   "source": []
  },
  {
   "cell_type": "markdown",
   "metadata": {},
   "source": [
    "### Summarize\n",
    "- Drop columns with nulls within .7\n",
    "- There are too many missing values in the original data.  After adding more columns, I will remove missing nulls\n",
    "- I can remove columns that are not useful.\n",
    "- Drop duplicate columns for parcelid\n",
    "- Drop Features"
   ]
  },
  {
   "cell_type": "code",
   "execution_count": null,
   "metadata": {},
   "outputs": [],
   "source": []
  },
  {
   "cell_type": "markdown",
   "metadata": {},
   "source": [
    "### Prepare"
   ]
  },
  {
   "cell_type": "markdown",
   "metadata": {},
   "source": [
    "#### Prepare the columns"
   ]
  },
  {
   "cell_type": "code",
   "execution_count": 7,
   "metadata": {},
   "outputs": [
    {
     "data": {
      "text/html": [
       "<div>\n",
       "<style scoped>\n",
       "    .dataframe tbody tr th:only-of-type {\n",
       "        vertical-align: middle;\n",
       "    }\n",
       "\n",
       "    .dataframe tbody tr th {\n",
       "        vertical-align: top;\n",
       "    }\n",
       "\n",
       "    .dataframe thead th {\n",
       "        text-align: right;\n",
       "    }\n",
       "</style>\n",
       "<table border=\"1\" class=\"dataframe\">\n",
       "  <thead>\n",
       "    <tr style=\"text-align: right;\">\n",
       "      <th></th>\n",
       "      <th>parcelid</th>\n",
       "      <th>logerror</th>\n",
       "      <th>bathroomcnt</th>\n",
       "      <th>bedroomcnt</th>\n",
       "      <th>calculatedfinishedsquarefeet</th>\n",
       "      <th>fips</th>\n",
       "      <th>latitude</th>\n",
       "      <th>longitude</th>\n",
       "      <th>lotsizesquarefeet</th>\n",
       "      <th>regionidcity</th>\n",
       "      <th>regionidcounty</th>\n",
       "      <th>regionidzip</th>\n",
       "      <th>yearbuilt</th>\n",
       "      <th>structuretaxvaluedollarcnt</th>\n",
       "      <th>taxvaluedollarcnt</th>\n",
       "      <th>landtaxvaluedollarcnt</th>\n",
       "      <th>taxamount</th>\n",
       "    </tr>\n",
       "  </thead>\n",
       "  <tbody>\n",
       "    <tr>\n",
       "      <th>0</th>\n",
       "      <td>14297519</td>\n",
       "      <td>0.025595</td>\n",
       "      <td>3.5</td>\n",
       "      <td>4.0</td>\n",
       "      <td>3100.0</td>\n",
       "      <td>6059.0</td>\n",
       "      <td>33634931.0</td>\n",
       "      <td>-117869207.0</td>\n",
       "      <td>4506.0</td>\n",
       "      <td>53571.0</td>\n",
       "      <td>1286.0</td>\n",
       "      <td>96978.0</td>\n",
       "      <td>1998.0</td>\n",
       "      <td>485713.0</td>\n",
       "      <td>1023282.0</td>\n",
       "      <td>537569.0</td>\n",
       "      <td>11013.72</td>\n",
       "    </tr>\n",
       "    <tr>\n",
       "      <th>1</th>\n",
       "      <td>17052889</td>\n",
       "      <td>0.055619</td>\n",
       "      <td>1.0</td>\n",
       "      <td>2.0</td>\n",
       "      <td>1465.0</td>\n",
       "      <td>6111.0</td>\n",
       "      <td>34449266.0</td>\n",
       "      <td>-119281531.0</td>\n",
       "      <td>12647.0</td>\n",
       "      <td>13091.0</td>\n",
       "      <td>2061.0</td>\n",
       "      <td>97099.0</td>\n",
       "      <td>1967.0</td>\n",
       "      <td>88000.0</td>\n",
       "      <td>464000.0</td>\n",
       "      <td>376000.0</td>\n",
       "      <td>5672.48</td>\n",
       "    </tr>\n",
       "    <tr>\n",
       "      <th>2</th>\n",
       "      <td>14186244</td>\n",
       "      <td>0.005383</td>\n",
       "      <td>2.0</td>\n",
       "      <td>3.0</td>\n",
       "      <td>1243.0</td>\n",
       "      <td>6059.0</td>\n",
       "      <td>33886168.0</td>\n",
       "      <td>-117823170.0</td>\n",
       "      <td>8432.0</td>\n",
       "      <td>21412.0</td>\n",
       "      <td>1286.0</td>\n",
       "      <td>97078.0</td>\n",
       "      <td>1962.0</td>\n",
       "      <td>85289.0</td>\n",
       "      <td>564778.0</td>\n",
       "      <td>479489.0</td>\n",
       "      <td>6488.30</td>\n",
       "    </tr>\n",
       "  </tbody>\n",
       "</table>\n",
       "</div>"
      ],
      "text/plain": [
       "   parcelid  logerror  bathroomcnt  bedroomcnt  calculatedfinishedsquarefeet  \\\n",
       "0  14297519  0.025595          3.5         4.0                        3100.0   \n",
       "1  17052889  0.055619          1.0         2.0                        1465.0   \n",
       "2  14186244  0.005383          2.0         3.0                        1243.0   \n",
       "\n",
       "     fips    latitude    longitude  lotsizesquarefeet  regionidcity  \\\n",
       "0  6059.0  33634931.0 -117869207.0             4506.0       53571.0   \n",
       "1  6111.0  34449266.0 -119281531.0            12647.0       13091.0   \n",
       "2  6059.0  33886168.0 -117823170.0             8432.0       21412.0   \n",
       "\n",
       "   regionidcounty  regionidzip  yearbuilt  structuretaxvaluedollarcnt  \\\n",
       "0          1286.0      96978.0     1998.0                    485713.0   \n",
       "1          2061.0      97099.0     1967.0                     88000.0   \n",
       "2          1286.0      97078.0     1962.0                     85289.0   \n",
       "\n",
       "   taxvaluedollarcnt  landtaxvaluedollarcnt  taxamount  \n",
       "0          1023282.0               537569.0   11013.72  \n",
       "1           464000.0               376000.0    5672.48  \n",
       "2           564778.0               479489.0    6488.30  "
      ]
     },
     "execution_count": 7,
     "metadata": {},
     "output_type": "execute_result"
    }
   ],
   "source": [
    "# Drop columns with nulls within .7\n",
    "df = prepare.handle_missing_values(df, prop_required_column = .7, prop_required_row = .7)\n",
    "df.head(3)"
   ]
  },
  {
   "cell_type": "code",
   "execution_count": 8,
   "metadata": {},
   "outputs": [
    {
     "data": {
      "text/plain": [
       "False    52318\n",
       "True       122\n",
       "Name: parcelid, dtype: int64"
      ]
     },
     "execution_count": 8,
     "metadata": {},
     "output_type": "execute_result"
    }
   ],
   "source": [
    "# check if there are any duplicate 'parcelid'\n",
    "df['parcelid'].duplicated().value_counts()"
   ]
  },
  {
   "cell_type": "code",
   "execution_count": 9,
   "metadata": {},
   "outputs": [],
   "source": [
    "# Drop duplicate parcelid\n",
    "df.drop_duplicates(subset=['parcelid'], inplace = True)"
   ]
  },
  {
   "cell_type": "code",
   "execution_count": 10,
   "metadata": {},
   "outputs": [
    {
     "data": {
      "text/plain": [
       "False    52318\n",
       "Name: parcelid, dtype: int64"
      ]
     },
     "execution_count": 10,
     "metadata": {},
     "output_type": "execute_result"
    }
   ],
   "source": [
    "# Verify duplicate parcelids were dropped\n",
    "df['parcelid'].duplicated().value_counts()"
   ]
  },
  {
   "cell_type": "code",
   "execution_count": 11,
   "metadata": {},
   "outputs": [],
   "source": [
    "# Bring in county names so data is easy to see the area related to data\n",
    "df = prepare.get_counties(df)"
   ]
  },
  {
   "cell_type": "code",
   "execution_count": 12,
   "metadata": {},
   "outputs": [],
   "source": [
    "# Using create_feature function bring in calculated data for tax_rate, acres, structure_dollar_per_sqft, and land_dollar_per_sqft\n",
    "df = prepare.create_features(df)"
   ]
  },
  {
   "cell_type": "code",
   "execution_count": 13,
   "metadata": {},
   "outputs": [
    {
     "data": {
      "text/plain": [
       "(52318, 25)"
      ]
     },
     "execution_count": 13,
     "metadata": {},
     "output_type": "execute_result"
    }
   ],
   "source": [
    "df.shape"
   ]
  },
  {
   "cell_type": "code",
   "execution_count": 14,
   "metadata": {},
   "outputs": [
    {
     "data": {
      "text/html": [
       "<div>\n",
       "<style scoped>\n",
       "    .dataframe tbody tr th:only-of-type {\n",
       "        vertical-align: middle;\n",
       "    }\n",
       "\n",
       "    .dataframe tbody tr th {\n",
       "        vertical-align: top;\n",
       "    }\n",
       "\n",
       "    .dataframe thead th {\n",
       "        text-align: right;\n",
       "    }\n",
       "</style>\n",
       "<table border=\"1\" class=\"dataframe\">\n",
       "  <thead>\n",
       "    <tr style=\"text-align: right;\">\n",
       "      <th></th>\n",
       "      <th>parcelid</th>\n",
       "      <th>logerror</th>\n",
       "      <th>bathroomcnt</th>\n",
       "      <th>bedroomcnt</th>\n",
       "      <th>calculatedfinishedsquarefeet</th>\n",
       "      <th>fips</th>\n",
       "      <th>latitude</th>\n",
       "      <th>longitude</th>\n",
       "      <th>lotsizesquarefeet</th>\n",
       "      <th>regionidcity</th>\n",
       "      <th>...</th>\n",
       "      <th>taxamount</th>\n",
       "      <th>LA</th>\n",
       "      <th>Orange</th>\n",
       "      <th>Ventura</th>\n",
       "      <th>age</th>\n",
       "      <th>taxrate</th>\n",
       "      <th>acres</th>\n",
       "      <th>structure_dollar_per_sqft</th>\n",
       "      <th>land_dollar_per_sqft</th>\n",
       "      <th>bath_bed_ratio</th>\n",
       "    </tr>\n",
       "  </thead>\n",
       "  <tbody>\n",
       "    <tr>\n",
       "      <th>0</th>\n",
       "      <td>14297519</td>\n",
       "      <td>0.025595</td>\n",
       "      <td>3.5</td>\n",
       "      <td>4.0</td>\n",
       "      <td>3100.0</td>\n",
       "      <td>6059.0</td>\n",
       "      <td>33634931.0</td>\n",
       "      <td>-117869207.0</td>\n",
       "      <td>4506.0</td>\n",
       "      <td>53571.0</td>\n",
       "      <td>...</td>\n",
       "      <td>11013.72</td>\n",
       "      <td>0</td>\n",
       "      <td>1</td>\n",
       "      <td>0</td>\n",
       "      <td>19.0</td>\n",
       "      <td>1.076313</td>\n",
       "      <td>0.103444</td>\n",
       "      <td>156.681613</td>\n",
       "      <td>119.300710</td>\n",
       "      <td>0.88</td>\n",
       "    </tr>\n",
       "    <tr>\n",
       "      <th>1</th>\n",
       "      <td>17052889</td>\n",
       "      <td>0.055619</td>\n",
       "      <td>1.0</td>\n",
       "      <td>2.0</td>\n",
       "      <td>1465.0</td>\n",
       "      <td>6111.0</td>\n",
       "      <td>34449266.0</td>\n",
       "      <td>-119281531.0</td>\n",
       "      <td>12647.0</td>\n",
       "      <td>13091.0</td>\n",
       "      <td>...</td>\n",
       "      <td>5672.48</td>\n",
       "      <td>0</td>\n",
       "      <td>0</td>\n",
       "      <td>1</td>\n",
       "      <td>50.0</td>\n",
       "      <td>1.222517</td>\n",
       "      <td>0.290335</td>\n",
       "      <td>60.068259</td>\n",
       "      <td>29.730371</td>\n",
       "      <td>0.50</td>\n",
       "    </tr>\n",
       "    <tr>\n",
       "      <th>2</th>\n",
       "      <td>14186244</td>\n",
       "      <td>0.005383</td>\n",
       "      <td>2.0</td>\n",
       "      <td>3.0</td>\n",
       "      <td>1243.0</td>\n",
       "      <td>6059.0</td>\n",
       "      <td>33886168.0</td>\n",
       "      <td>-117823170.0</td>\n",
       "      <td>8432.0</td>\n",
       "      <td>21412.0</td>\n",
       "      <td>...</td>\n",
       "      <td>6488.30</td>\n",
       "      <td>0</td>\n",
       "      <td>1</td>\n",
       "      <td>0</td>\n",
       "      <td>55.0</td>\n",
       "      <td>1.148823</td>\n",
       "      <td>0.193572</td>\n",
       "      <td>68.615447</td>\n",
       "      <td>56.865394</td>\n",
       "      <td>0.67</td>\n",
       "    </tr>\n",
       "  </tbody>\n",
       "</table>\n",
       "<p>3 rows × 25 columns</p>\n",
       "</div>"
      ],
      "text/plain": [
       "   parcelid  logerror  bathroomcnt  bedroomcnt  calculatedfinishedsquarefeet  \\\n",
       "0  14297519  0.025595          3.5         4.0                        3100.0   \n",
       "1  17052889  0.055619          1.0         2.0                        1465.0   \n",
       "2  14186244  0.005383          2.0         3.0                        1243.0   \n",
       "\n",
       "     fips    latitude    longitude  lotsizesquarefeet  regionidcity  ...  \\\n",
       "0  6059.0  33634931.0 -117869207.0             4506.0       53571.0  ...   \n",
       "1  6111.0  34449266.0 -119281531.0            12647.0       13091.0  ...   \n",
       "2  6059.0  33886168.0 -117823170.0             8432.0       21412.0  ...   \n",
       "\n",
       "   taxamount  LA  Orange  Ventura   age   taxrate     acres  \\\n",
       "0   11013.72   0       1        0  19.0  1.076313  0.103444   \n",
       "1    5672.48   0       0        1  50.0  1.222517  0.290335   \n",
       "2    6488.30   0       1        0  55.0  1.148823  0.193572   \n",
       "\n",
       "   structure_dollar_per_sqft  land_dollar_per_sqft  bath_bed_ratio  \n",
       "0                 156.681613            119.300710            0.88  \n",
       "1                  60.068259             29.730371            0.50  \n",
       "2                  68.615447             56.865394            0.67  \n",
       "\n",
       "[3 rows x 25 columns]"
      ]
     },
     "execution_count": 14,
     "metadata": {},
     "output_type": "execute_result"
    }
   ],
   "source": [
    "df.head(3)"
   ]
  },
  {
   "cell_type": "code",
   "execution_count": 15,
   "metadata": {},
   "outputs": [
    {
     "data": {
      "text/plain": [
       "Index(['parcelid', 'logerror', 'bathroomcnt', 'bedroomcnt',\n",
       "       'calculatedfinishedsquarefeet', 'fips', 'latitude', 'longitude',\n",
       "       'lotsizesquarefeet', 'regionidcity', 'regionidzip', 'yearbuilt',\n",
       "       'structuretaxvaluedollarcnt', 'taxvaluedollarcnt',\n",
       "       'landtaxvaluedollarcnt', 'taxamount', 'LA', 'Orange', 'Ventura', 'age',\n",
       "       'taxrate', 'acres', 'structure_dollar_per_sqft', 'land_dollar_per_sqft',\n",
       "       'bath_bed_ratio'],\n",
       "      dtype='object')"
      ]
     },
     "execution_count": 15,
     "metadata": {},
     "output_type": "execute_result"
    }
   ],
   "source": [
    "df.columns"
   ]
  },
  {
   "cell_type": "markdown",
   "metadata": {},
   "source": [
    "#### Drop the nulls and columns that are no longer needed since new calculated ones were made "
   ]
  },
  {
   "cell_type": "code",
   "execution_count": 16,
   "metadata": {},
   "outputs": [],
   "source": [
    "# Drop nulls\n",
    "df.dropna(inplace=True)"
   ]
  },
  {
   "cell_type": "code",
   "execution_count": 17,
   "metadata": {},
   "outputs": [
    {
     "name": "stdout",
     "output_type": "stream",
     "text": [
      " 1667 rows were dropped\n"
     ]
    }
   ],
   "source": [
    "print(' {} rows were dropped'.format(52442-df.shape[0]))"
   ]
  },
  {
   "cell_type": "code",
   "execution_count": 18,
   "metadata": {},
   "outputs": [
    {
     "data": {
      "text/plain": [
       "parcelid                        0\n",
       "logerror                        0\n",
       "bathroomcnt                     0\n",
       "bedroomcnt                      0\n",
       "calculatedfinishedsquarefeet    0\n",
       "fips                            0\n",
       "latitude                        0\n",
       "longitude                       0\n",
       "lotsizesquarefeet               0\n",
       "regionidcity                    0\n",
       "regionidzip                     0\n",
       "yearbuilt                       0\n",
       "structuretaxvaluedollarcnt      0\n",
       "taxvaluedollarcnt               0\n",
       "landtaxvaluedollarcnt           0\n",
       "taxamount                       0\n",
       "LA                              0\n",
       "Orange                          0\n",
       "Ventura                         0\n",
       "age                             0\n",
       "taxrate                         0\n",
       "acres                           0\n",
       "structure_dollar_per_sqft       0\n",
       "land_dollar_per_sqft            0\n",
       "bath_bed_ratio                  0\n",
       "dtype: int64"
      ]
     },
     "execution_count": 18,
     "metadata": {},
     "output_type": "execute_result"
    }
   ],
   "source": [
    "# verify nulls were dropped\n",
    "df.isna().sum()"
   ]
  },
  {
   "cell_type": "code",
   "execution_count": 19,
   "metadata": {},
   "outputs": [
    {
     "data": {
      "text/plain": [
       "['logerror',\n",
       " 'bathroomcnt',\n",
       " 'bedroomcnt',\n",
       " 'fips',\n",
       " 'latitude',\n",
       " 'longitude',\n",
       " 'taxvaluedollarcnt',\n",
       " 'taxamount',\n",
       " 'LA',\n",
       " 'Orange',\n",
       " 'Ventura',\n",
       " 'age',\n",
       " 'taxrate',\n",
       " 'acres',\n",
       " 'structure_dollar_per_sqft',\n",
       " 'land_dollar_per_sqft']"
      ]
     },
     "execution_count": 19,
     "metadata": {},
     "output_type": "execute_result"
    }
   ],
   "source": [
    "df = df.drop(columns=['parcelid', 'calculatedfinishedsquarefeet', 'structuretaxvaluedollarcnt', 'lotsizesquarefeet', 'regionidcity', 'regionidzip', 'yearbuilt', 'landtaxvaluedollarcnt', 'landtaxvaluedollarcnt', 'bath_bed_ratio'])\n",
    "df.columns.tolist()"
   ]
  },
  {
   "cell_type": "code",
   "execution_count": null,
   "metadata": {},
   "outputs": [],
   "source": []
  },
  {
   "cell_type": "code",
   "execution_count": 20,
   "metadata": {},
   "outputs": [
    {
     "data": {
      "image/png": "[encoded data removed]",
      "text/plain": [
       "<Figure size 432x288 with 1 Axes>"
      ]
     },
     "metadata": {
      "needs_background": "light"
     },
     "output_type": "display_data"
    },
    {
     "data": {
      "image/png": "[encoded data removed]",
      "text/plain": [
       "<Figure size 432x288 with 1 Axes>"
      ]
     },
     "metadata": {
      "needs_background": "light"
     },
     "output_type": "display_data"
    },
    {
     "data": {
      "image/png": "[encoded data removed]",
      "text/plain": [
       "<Figure size 432x288 with 1 Axes>"
      ]
     },
     "metadata": {
      "needs_background": "light"
     },
     "output_type": "display_data"
    },
    {
     "data": {
      "image/png": "[encoded data removed]",
      "text/plain": [
       "<Figure size 432x288 with 1 Axes>"
      ]
     },
     "metadata": {
      "needs_background": "light"
     },
     "output_type": "display_data"
    },
    {
     "data": {
      "image/png": "[encoded data removed]",
      "text/plain": [
       "<Figure size 432x288 with 1 Axes>"
      ]
     },
     "metadata": {
      "needs_background": "light"
     },
     "output_type": "display_data"
    },
    {
     "data": {
      "image/png": "[encoded data removed]",
      "text/plain": [
       "<Figure size 432x288 with 1 Axes>"
      ]
     },
     "metadata": {
      "needs_background": "light"
     },
     "output_type": "display_data"
    },
    {
     "data": {
      "image/png": "[encoded data removed]",
      "text/plain": [
       "<Figure size 432x288 with 1 Axes>"
      ]
     },
     "metadata": {
      "needs_background": "light"
     },
     "output_type": "display_data"
    },
    {
     "data": {
      "image/png": "[encoded data removed]",
      "text/plain": [
       "<Figure size 432x288 with 1 Axes>"
      ]
     },
     "metadata": {
      "needs_background": "light"
     },
     "output_type": "display_data"
    },
    {
     "data": {
      "image/png": "[encoded data removed]",
      "text/plain": [
       "<Figure size 432x288 with 1 Axes>"
      ]
     },
     "metadata": {
      "needs_background": "light"
     },
     "output_type": "display_data"
    },
    {
     "data": {
      "image/png": "[encoded data removed]",
      "text/plain": [
       "<Figure size 432x288 with 1 Axes>"
      ]
     },
     "metadata": {
      "needs_background": "light"
     },
     "output_type": "display_data"
    },
    {
     "data": {
      "image/png": "[encoded data removed]",
      "text/plain": [
       "<Figure size 432x288 with 1 Axes>"
      ]
     },
     "metadata": {
      "needs_background": "light"
     },
     "output_type": "display_data"
    },
    {
     "data": {
      "image/png": "[encoded data removed]",
      "text/plain": [
       "<Figure size 432x288 with 1 Axes>"
      ]
     },
     "metadata": {
      "needs_background": "light"
     },
     "output_type": "display_data"
    },
    {
     "data": {
      "image/png": "[encoded data removed]",
      "text/plain": [
       "<Figure size 432x288 with 1 Axes>"
      ]
     },
     "metadata": {
      "needs_background": "light"
     },
     "output_type": "display_data"
    },
    {
     "data": {
      "image/png": "[encoded data removed]",
      "text/plain": [
       "<Figure size 432x288 with 1 Axes>"
      ]
     },
     "metadata": {
      "needs_background": "light"
     },
     "output_type": "display_data"
    },
    {
     "data": {
      "image/png": "[encoded data removed]",
      "text/plain": [
       "<Figure size 432x288 with 1 Axes>"
      ]
     },
     "metadata": {
      "needs_background": "light"
     },
     "output_type": "display_data"
    },
    {
     "data": {
      "image/png": "[encoded data removed]",
      "text/plain": [
       "<Figure size 432x288 with 1 Axes>"
      ]
     },
     "metadata": {
      "needs_background": "light"
     },
     "output_type": "display_data"
    }
   ],
   "source": [
    "# See what the distributions look like for each column\n",
    "for col in df.columns:\n",
    "    sns.boxplot(df[col])\n",
    "    plt.title(col)\n",
    "    plt.show()"
   ]
  },
  {
   "cell_type": "code",
   "execution_count": 21,
   "metadata": {},
   "outputs": [
    {
     "data": {
      "text/html": [
       "<div>\n",
       "<style scoped>\n",
       "    .dataframe tbody tr th:only-of-type {\n",
       "        vertical-align: middle;\n",
       "    }\n",
       "\n",
       "    .dataframe tbody tr th {\n",
       "        vertical-align: top;\n",
       "    }\n",
       "\n",
       "    .dataframe thead th {\n",
       "        text-align: right;\n",
       "    }\n",
       "</style>\n",
       "<table border=\"1\" class=\"dataframe\">\n",
       "  <thead>\n",
       "    <tr style=\"text-align: right;\">\n",
       "      <th></th>\n",
       "      <th>logerror</th>\n",
       "      <th>bathroomcnt</th>\n",
       "      <th>bedroomcnt</th>\n",
       "      <th>fips</th>\n",
       "      <th>latitude</th>\n",
       "      <th>longitude</th>\n",
       "      <th>taxvaluedollarcnt</th>\n",
       "      <th>taxamount</th>\n",
       "      <th>LA</th>\n",
       "      <th>Orange</th>\n",
       "      <th>Ventura</th>\n",
       "      <th>age</th>\n",
       "      <th>taxrate</th>\n",
       "      <th>acres</th>\n",
       "      <th>structure_dollar_per_sqft</th>\n",
       "      <th>land_dollar_per_sqft</th>\n",
       "    </tr>\n",
       "  </thead>\n",
       "  <tbody>\n",
       "    <tr>\n",
       "      <th>0</th>\n",
       "      <td>0.025595</td>\n",
       "      <td>3.5</td>\n",
       "      <td>4.0</td>\n",
       "      <td>6059.0</td>\n",
       "      <td>33634931.0</td>\n",
       "      <td>-117869207.0</td>\n",
       "      <td>1023282.0</td>\n",
       "      <td>11013.72</td>\n",
       "      <td>0</td>\n",
       "      <td>1</td>\n",
       "      <td>0</td>\n",
       "      <td>19.0</td>\n",
       "      <td>1.076313</td>\n",
       "      <td>0.103444</td>\n",
       "      <td>156.681613</td>\n",
       "      <td>119.300710</td>\n",
       "    </tr>\n",
       "    <tr>\n",
       "      <th>1</th>\n",
       "      <td>0.055619</td>\n",
       "      <td>1.0</td>\n",
       "      <td>2.0</td>\n",
       "      <td>6111.0</td>\n",
       "      <td>34449266.0</td>\n",
       "      <td>-119281531.0</td>\n",
       "      <td>464000.0</td>\n",
       "      <td>5672.48</td>\n",
       "      <td>0</td>\n",
       "      <td>0</td>\n",
       "      <td>1</td>\n",
       "      <td>50.0</td>\n",
       "      <td>1.222517</td>\n",
       "      <td>0.290335</td>\n",
       "      <td>60.068259</td>\n",
       "      <td>29.730371</td>\n",
       "    </tr>\n",
       "    <tr>\n",
       "      <th>2</th>\n",
       "      <td>0.005383</td>\n",
       "      <td>2.0</td>\n",
       "      <td>3.0</td>\n",
       "      <td>6059.0</td>\n",
       "      <td>33886168.0</td>\n",
       "      <td>-117823170.0</td>\n",
       "      <td>564778.0</td>\n",
       "      <td>6488.30</td>\n",
       "      <td>0</td>\n",
       "      <td>1</td>\n",
       "      <td>0</td>\n",
       "      <td>55.0</td>\n",
       "      <td>1.148823</td>\n",
       "      <td>0.193572</td>\n",
       "      <td>68.615447</td>\n",
       "      <td>56.865394</td>\n",
       "    </tr>\n",
       "    <tr>\n",
       "      <th>3</th>\n",
       "      <td>-0.103410</td>\n",
       "      <td>3.0</td>\n",
       "      <td>4.0</td>\n",
       "      <td>6037.0</td>\n",
       "      <td>34245180.0</td>\n",
       "      <td>-118240722.0</td>\n",
       "      <td>145143.0</td>\n",
       "      <td>1777.51</td>\n",
       "      <td>1</td>\n",
       "      <td>0</td>\n",
       "      <td>0</td>\n",
       "      <td>47.0</td>\n",
       "      <td>1.224661</td>\n",
       "      <td>0.299311</td>\n",
       "      <td>45.840909</td>\n",
       "      <td>2.778417</td>\n",
       "    </tr>\n",
       "    <tr>\n",
       "      <th>4</th>\n",
       "      <td>-0.001011</td>\n",
       "      <td>3.0</td>\n",
       "      <td>4.0</td>\n",
       "      <td>6037.0</td>\n",
       "      <td>34145202.0</td>\n",
       "      <td>-118179824.0</td>\n",
       "      <td>773303.0</td>\n",
       "      <td>9516.26</td>\n",
       "      <td>1</td>\n",
       "      <td>0</td>\n",
       "      <td>0</td>\n",
       "      <td>67.0</td>\n",
       "      <td>1.230599</td>\n",
       "      <td>1.446281</td>\n",
       "      <td>93.411209</td>\n",
       "      <td>7.882841</td>\n",
       "    </tr>\n",
       "  </tbody>\n",
       "</table>\n",
       "</div>"
      ],
      "text/plain": [
       "   logerror  bathroomcnt  bedroomcnt    fips    latitude    longitude  \\\n",
       "0  0.025595          3.5         4.0  6059.0  33634931.0 -117869207.0   \n",
       "1  0.055619          1.0         2.0  6111.0  34449266.0 -119281531.0   \n",
       "2  0.005383          2.0         3.0  6059.0  33886168.0 -117823170.0   \n",
       "3 -0.103410          3.0         4.0  6037.0  34245180.0 -118240722.0   \n",
       "4 -0.001011          3.0         4.0  6037.0  34145202.0 -118179824.0   \n",
       "\n",
       "   taxvaluedollarcnt  taxamount  LA  Orange  Ventura   age   taxrate  \\\n",
       "0          1023282.0   11013.72   0       1        0  19.0  1.076313   \n",
       "1           464000.0    5672.48   0       0        1  50.0  1.222517   \n",
       "2           564778.0    6488.30   0       1        0  55.0  1.148823   \n",
       "3           145143.0    1777.51   1       0        0  47.0  1.224661   \n",
       "4           773303.0    9516.26   1       0        0  67.0  1.230599   \n",
       "\n",
       "      acres  structure_dollar_per_sqft  land_dollar_per_sqft  \n",
       "0  0.103444                 156.681613            119.300710  \n",
       "1  0.290335                  60.068259             29.730371  \n",
       "2  0.193572                  68.615447             56.865394  \n",
       "3  0.299311                  45.840909              2.778417  \n",
       "4  1.446281                  93.411209              7.882841  "
      ]
     },
     "execution_count": 21,
     "metadata": {},
     "output_type": "execute_result"
    }
   ],
   "source": [
    "df.head()"
   ]
  },
  {
   "cell_type": "code",
   "execution_count": 22,
   "metadata": {},
   "outputs": [],
   "source": [
    "# df = prepare.remove_outliers(df)\n",
    "# df.describe().T"
   ]
  },
  {
   "cell_type": "code",
   "execution_count": 23,
   "metadata": {},
   "outputs": [],
   "source": [
    "#Create logerror bins to make pairplots\n",
    "#Will be easier to see insights and better for visuals\n",
    "df['logerror_bins'] = pd.cut(df.logerror, [-5, -.2, -.05, .05, .2, 4])"
   ]
  },
  {
   "cell_type": "code",
   "execution_count": 24,
   "metadata": {},
   "outputs": [
    {
     "data": {
      "text/plain": [
       "Index(['logerror', 'bathroomcnt', 'bedroomcnt', 'fips', 'latitude',\n",
       "       'longitude', 'taxvaluedollarcnt', 'taxamount', 'LA', 'Orange',\n",
       "       'Ventura', 'age', 'taxrate', 'acres', 'structure_dollar_per_sqft',\n",
       "       'land_dollar_per_sqft', 'logerror_bins'],\n",
       "      dtype='object')"
      ]
     },
     "execution_count": 24,
     "metadata": {},
     "output_type": "execute_result"
    }
   ],
   "source": [
    "# verify logerror_bins were added\n",
    "df.columns"
   ]
  },
  {
   "cell_type": "markdown",
   "metadata": {},
   "source": [
    "### Explore"
   ]
  },
  {
   "cell_type": "markdown",
   "metadata": {},
   "source": [
    "#### Split data (train, validate, and test split)\n",
    "\n",
    "Now we'll do our train/validate/test split:\n",
    "\n",
    "- We'll do exploration and train our model on the train data\n",
    "\n",
    "- We tune our model on validate, since it will be out-of-sample until we use it.\n",
    "\n",
    "- And keep the test nice and safe and separate, for our final out-of-sample dataset, to see how well our tuned model performs on new data."
   ]
  },
  {
   "cell_type": "code",
   "execution_count": 25,
   "metadata": {},
   "outputs": [
    {
     "name": "stdout",
     "output_type": "stream",
     "text": [
      "train -> (28434, 17)\n",
      "validate -> (12186, 17)\n",
      "test -> (10155, 17)\n"
     ]
    }
   ],
   "source": [
    "train, validate, test = prepare.split_continuous(df)"
   ]
  },
  {
   "cell_type": "code",
   "execution_count": 26,
   "metadata": {},
   "outputs": [
    {
     "data": {
      "text/html": [
       "<div>\n",
       "<style scoped>\n",
       "    .dataframe tbody tr th:only-of-type {\n",
       "        vertical-align: middle;\n",
       "    }\n",
       "\n",
       "    .dataframe tbody tr th {\n",
       "        vertical-align: top;\n",
       "    }\n",
       "\n",
       "    .dataframe thead th {\n",
       "        text-align: right;\n",
       "    }\n",
       "</style>\n",
       "<table border=\"1\" class=\"dataframe\">\n",
       "  <thead>\n",
       "    <tr style=\"text-align: right;\">\n",
       "      <th></th>\n",
       "      <th>logerror</th>\n",
       "      <th>bathroomcnt</th>\n",
       "      <th>bedroomcnt</th>\n",
       "      <th>fips</th>\n",
       "      <th>latitude</th>\n",
       "      <th>longitude</th>\n",
       "      <th>taxvaluedollarcnt</th>\n",
       "      <th>taxamount</th>\n",
       "      <th>LA</th>\n",
       "      <th>Orange</th>\n",
       "      <th>Ventura</th>\n",
       "      <th>age</th>\n",
       "      <th>taxrate</th>\n",
       "      <th>acres</th>\n",
       "      <th>structure_dollar_per_sqft</th>\n",
       "      <th>land_dollar_per_sqft</th>\n",
       "      <th>logerror_bins</th>\n",
       "    </tr>\n",
       "  </thead>\n",
       "  <tbody>\n",
       "    <tr>\n",
       "      <th>41512</th>\n",
       "      <td>-0.014928</td>\n",
       "      <td>2.5</td>\n",
       "      <td>3.0</td>\n",
       "      <td>6111.0</td>\n",
       "      <td>34258777.0</td>\n",
       "      <td>-118738787.0</td>\n",
       "      <td>520113.0</td>\n",
       "      <td>6095.06</td>\n",
       "      <td>0</td>\n",
       "      <td>0</td>\n",
       "      <td>1</td>\n",
       "      <td>21.0</td>\n",
       "      <td>1.171872</td>\n",
       "      <td>0.180005</td>\n",
       "      <td>178.938073</td>\n",
       "      <td>26.532968</td>\n",
       "      <td>(-0.05, 0.05]</td>\n",
       "    </tr>\n",
       "    <tr>\n",
       "      <th>33370</th>\n",
       "      <td>0.134700</td>\n",
       "      <td>1.5</td>\n",
       "      <td>3.0</td>\n",
       "      <td>6059.0</td>\n",
       "      <td>33725513.0</td>\n",
       "      <td>-117805621.0</td>\n",
       "      <td>160674.0</td>\n",
       "      <td>1679.30</td>\n",
       "      <td>0</td>\n",
       "      <td>1</td>\n",
       "      <td>0</td>\n",
       "      <td>42.0</td>\n",
       "      <td>1.045160</td>\n",
       "      <td>0.024725</td>\n",
       "      <td>75.362158</td>\n",
       "      <td>67.456825</td>\n",
       "      <td>(0.05, 0.2]</td>\n",
       "    </tr>\n",
       "    <tr>\n",
       "      <th>3593</th>\n",
       "      <td>0.059565</td>\n",
       "      <td>1.0</td>\n",
       "      <td>3.0</td>\n",
       "      <td>6037.0</td>\n",
       "      <td>33888060.0</td>\n",
       "      <td>-118335904.0</td>\n",
       "      <td>255445.0</td>\n",
       "      <td>3486.35</td>\n",
       "      <td>1</td>\n",
       "      <td>0</td>\n",
       "      <td>0</td>\n",
       "      <td>64.0</td>\n",
       "      <td>1.364814</td>\n",
       "      <td>0.131474</td>\n",
       "      <td>53.818989</td>\n",
       "      <td>30.845818</td>\n",
       "      <td>(0.05, 0.2]</td>\n",
       "    </tr>\n",
       "    <tr>\n",
       "      <th>37533</th>\n",
       "      <td>-0.083418</td>\n",
       "      <td>1.0</td>\n",
       "      <td>3.0</td>\n",
       "      <td>6037.0</td>\n",
       "      <td>33826399.0</td>\n",
       "      <td>-118261242.0</td>\n",
       "      <td>108258.0</td>\n",
       "      <td>1952.03</td>\n",
       "      <td>1</td>\n",
       "      <td>0</td>\n",
       "      <td>0</td>\n",
       "      <td>60.0</td>\n",
       "      <td>1.803128</td>\n",
       "      <td>0.119628</td>\n",
       "      <td>65.909528</td>\n",
       "      <td>7.633468</td>\n",
       "      <td>(-0.2, -0.05]</td>\n",
       "    </tr>\n",
       "    <tr>\n",
       "      <th>31945</th>\n",
       "      <td>0.014127</td>\n",
       "      <td>2.0</td>\n",
       "      <td>3.0</td>\n",
       "      <td>6037.0</td>\n",
       "      <td>34372784.0</td>\n",
       "      <td>-118558466.0</td>\n",
       "      <td>301571.0</td>\n",
       "      <td>4146.83</td>\n",
       "      <td>1</td>\n",
       "      <td>0</td>\n",
       "      <td>0</td>\n",
       "      <td>43.0</td>\n",
       "      <td>1.375076</td>\n",
       "      <td>0.132805</td>\n",
       "      <td>154.246978</td>\n",
       "      <td>21.253760</td>\n",
       "      <td>(-0.05, 0.05]</td>\n",
       "    </tr>\n",
       "  </tbody>\n",
       "</table>\n",
       "</div>"
      ],
      "text/plain": [
       "       logerror  bathroomcnt  bedroomcnt    fips    latitude    longitude  \\\n",
       "41512 -0.014928          2.5         3.0  6111.0  34258777.0 -118738787.0   \n",
       "33370  0.134700          1.5         3.0  6059.0  33725513.0 -117805621.0   \n",
       "3593   0.059565          1.0         3.0  6037.0  33888060.0 -118335904.0   \n",
       "37533 -0.083418          1.0         3.0  6037.0  33826399.0 -118261242.0   \n",
       "31945  0.014127          2.0         3.0  6037.0  34372784.0 -118558466.0   \n",
       "\n",
       "       taxvaluedollarcnt  taxamount  LA  Orange  Ventura   age   taxrate  \\\n",
       "41512           520113.0    6095.06   0       0        1  21.0  1.171872   \n",
       "33370           160674.0    1679.30   0       1        0  42.0  1.045160   \n",
       "3593            255445.0    3486.35   1       0        0  64.0  1.364814   \n",
       "37533           108258.0    1952.03   1       0        0  60.0  1.803128   \n",
       "31945           301571.0    4146.83   1       0        0  43.0  1.375076   \n",
       "\n",
       "          acres  structure_dollar_per_sqft  land_dollar_per_sqft  \\\n",
       "41512  0.180005                 178.938073             26.532968   \n",
       "33370  0.024725                  75.362158             67.456825   \n",
       "3593   0.131474                  53.818989             30.845818   \n",
       "37533  0.119628                  65.909528              7.633468   \n",
       "31945  0.132805                 154.246978             21.253760   \n",
       "\n",
       "       logerror_bins  \n",
       "41512  (-0.05, 0.05]  \n",
       "33370    (0.05, 0.2]  \n",
       "3593     (0.05, 0.2]  \n",
       "37533  (-0.2, -0.05]  \n",
       "31945  (-0.05, 0.05]  "
      ]
     },
     "execution_count": 26,
     "metadata": {},
     "output_type": "execute_result"
    }
   ],
   "source": [
    "train.head()"
   ]
  },
  {
   "cell_type": "markdown",
   "metadata": {},
   "source": [
    "### Univariate\n",
    " - Run a histogram for each column to get to know each column"
   ]
  },
  {
   "cell_type": "code",
   "execution_count": 27,
   "metadata": {},
   "outputs": [
    {
     "data": {
      "text/plain": [
       "Index(['logerror', 'bathroomcnt', 'bedroomcnt', 'fips', 'latitude',\n",
       "       'longitude', 'taxvaluedollarcnt', 'taxamount', 'LA', 'Orange',\n",
       "       'Ventura', 'age', 'taxrate', 'acres', 'structure_dollar_per_sqft',\n",
       "       'land_dollar_per_sqft', 'logerror_bins'],\n",
       "      dtype='object')"
      ]
     },
     "execution_count": 27,
     "metadata": {},
     "output_type": "execute_result"
    }
   ],
   "source": [
    "train.columns"
   ]
  },
  {
   "cell_type": "code",
   "execution_count": 28,
   "metadata": {},
   "outputs": [
    {
     "data": {
      "image/png": "[encoded data removed]",
      "text/plain": [
       "<Figure size 288x144 with 1 Axes>"
      ]
     },
     "metadata": {
      "needs_background": "light"
     },
     "output_type": "display_data"
    },
    {
     "data": {
      "image/png": "[encoded data removed]",
      "text/plain": [
       "<Figure size 288x144 with 1 Axes>"
      ]
     },
     "metadata": {
      "needs_background": "light"
     },
     "output_type": "display_data"
    },
    {
     "data": {
      "image/png": "[encoded data removed]",
      "text/plain": [
       "<Figure size 288x144 with 1 Axes>"
      ]
     },
     "metadata": {
      "needs_background": "light"
     },
     "output_type": "display_data"
    },
    {
     "data": {
      "image/png": "[encoded data removed]",
      "text/plain": [
       "<Figure size 288x144 with 1 Axes>"
      ]
     },
     "metadata": {
      "needs_background": "light"
     },
     "output_type": "display_data"
    },
    {
     "data": {
      "image/png": "[encoded data removed]",
      "text/plain": [
       "<Figure size 288x144 with 1 Axes>"
      ]
     },
     "metadata": {
      "needs_background": "light"
     },
     "output_type": "display_data"
    },
    {
     "data": {
      "image/png": "[encoded data removed]",
      "text/plain": [
       "<Figure size 288x144 with 1 Axes>"
      ]
     },
     "metadata": {
      "needs_background": "light"
     },
     "output_type": "display_data"
    },
    {
     "data": {
      "image/png": "[encoded data removed]",
      "text/plain": [
       "<Figure size 288x144 with 1 Axes>"
      ]
     },
     "metadata": {
      "needs_background": "light"
     },
     "output_type": "display_data"
    },
    {
     "data": {
      "image/png": "[encoded data removed]",
      "text/plain": [
       "<Figure size 288x144 with 1 Axes>"
      ]
     },
     "metadata": {
      "needs_background": "light"
     },
     "output_type": "display_data"
    },
    {
     "data": {
      "image/png": "[encoded data removed]",
      "text/plain": [
       "<Figure size 288x144 with 1 Axes>"
      ]
     },
     "metadata": {
      "needs_background": "light"
     },
     "output_type": "display_data"
    },
    {
     "data": {
      "image/png": "[encoded data removed]",
      "text/plain": [
       "<Figure size 288x144 with 1 Axes>"
      ]
     },
     "metadata": {
      "needs_background": "light"
     },
     "output_type": "display_data"
    },
    {
     "data": {
      "image/png": "[encoded data removed]",
      "text/plain": [
       "<Figure size 288x144 with 1 Axes>"
      ]
     },
     "metadata": {
      "needs_background": "light"
     },
     "output_type": "display_data"
    },
    {
     "data": {
      "image/png": "[encoded data removed]",
      "text/plain": [
       "<Figure size 288x144 with 1 Axes>"
      ]
     },
     "metadata": {
      "needs_background": "light"
     },
     "output_type": "display_data"
    },
    {
     "data": {
      "image/png": "[encoded data removed]",
      "text/plain": [
       "<Figure size 288x144 with 1 Axes>"
      ]
     },
     "metadata": {
      "needs_background": "light"
     },
     "output_type": "display_data"
    },
    {
     "data": {
      "image/png": "[encoded data removed]",
      "text/plain": [
       "<Figure size 288x144 with 1 Axes>"
      ]
     },
     "metadata": {
      "needs_background": "light"
     },
     "output_type": "display_data"
    },
    {
     "data": {
      "image/png": "[encoded data removed]",
      "text/plain": [
       "<Figure size 288x144 with 1 Axes>"
      ]
     },
     "metadata": {
      "needs_background": "light"
     },
     "output_type": "display_data"
    },
    {
     "data": {
      "image/png": "[encoded data removed]",
      "text/plain": [
       "<Figure size 288x144 with 1 Axes>"
      ]
     },
     "metadata": {
      "needs_background": "light"
     },
     "output_type": "display_data"
    }
   ],
   "source": [
    "# What is the distribution of each variable?\n",
    "for col in train.columns:\n",
    "    if col != 'logerror_bins':\n",
    "        plt.figure(figsize=(4,2))\n",
    "        plt.hist(train[col])\n",
    "        plt.title(col)\n",
    "        plt.show()"
   ]
  },
  {
   "cell_type": "code",
   "execution_count": null,
   "metadata": {},
   "outputs": [],
   "source": []
  },
  {
   "cell_type": "markdown",
   "metadata": {},
   "source": [
    "### Bivariate\n",
    " - Plot the interaction of a few variables (Square Footage, fips, bedroom count) to see the interaction of each variable with the target"
   ]
  },
  {
   "cell_type": "code",
   "execution_count": 29,
   "metadata": {},
   "outputs": [
    {
     "data": {
      "image/png": "[encoded data removed]",
      "text/plain": [
       "<Figure size 432x288 with 1 Axes>"
      ]
     },
     "metadata": {
      "needs_background": "light"
     },
     "output_type": "display_data"
    }
   ],
   "source": [
    "# What is the interaction of the variable with the target (Bivariate)\n",
    "sns.scatterplot(x= 'structure_dollar_per_sqft', y='logerror', data=train)\n",
    "plt.title('Logerror per calculated sqft per structure')\n",
    "plt.xlabel('Square Footage') \n",
    "plt.ylabel('Logerror')\n",
    "plt.show()"
   ]
  },
  {
   "cell_type": "code",
   "execution_count": 30,
   "metadata": {},
   "outputs": [
    {
     "data": {
      "image/png": "[encoded data removed]",
      "text/plain": [
       "<Figure size 432x288 with 1 Axes>"
      ]
     },
     "metadata": {
      "needs_background": "light"
     },
     "output_type": "display_data"
    }
   ],
   "source": [
    "sns.scatterplot(x= 'age', y='logerror', data=train)\n",
    "plt.title('Logerror per home age')\n",
    "plt.xlabel('fips') \n",
    "plt.ylabel('Logerror')\n",
    "plt.show()"
   ]
  },
  {
   "cell_type": "code",
   "execution_count": 31,
   "metadata": {},
   "outputs": [
    {
     "data": {
      "image/png": "[encoded data removed]",
      "text/plain": [
       "<Figure size 432x288 with 1 Axes>"
      ]
     },
     "metadata": {
      "needs_background": "light"
     },
     "output_type": "display_data"
    }
   ],
   "source": [
    "sns.scatterplot(x= 'bedroomcnt', y='logerror', data=train)\n",
    "plt.title('Logerror per bedroom count')\n",
    "plt.xlabel('bedrooms') \n",
    "plt.ylabel('Logerror')\n",
    "plt.show()"
   ]
  },
  {
   "cell_type": "markdown",
   "metadata": {},
   "source": [
    " #### Takeaway\n",
    " The plots do not show that either of the variables used are a direct driver for the logerrors."
   ]
  },
  {
   "cell_type": "markdown",
   "metadata": {},
   "source": [
    "### Statistics and correlations\n",
    "-  run a heatmap of the variables from the DataFrame and check the correlation between them and the logerror\n",
    "-  run a stats test on the highest correlated variable which was bedroomcnt and structure_dollar_per_sqft"
   ]
  },
  {
   "cell_type": "code",
   "execution_count": 32,
   "metadata": {},
   "outputs": [
    {
     "data": {
      "text/plain": [
       "Index(['logerror', 'bathroomcnt', 'bedroomcnt', 'fips', 'latitude',\n",
       "       'longitude', 'taxvaluedollarcnt', 'taxamount', 'LA', 'Orange',\n",
       "       'Ventura', 'age', 'taxrate', 'acres', 'structure_dollar_per_sqft',\n",
       "       'land_dollar_per_sqft', 'logerror_bins'],\n",
       "      dtype='object')"
      ]
     },
     "execution_count": 32,
     "metadata": {},
     "output_type": "execute_result"
    }
   ],
   "source": [
    "train.columns"
   ]
  },
  {
   "cell_type": "code",
   "execution_count": 33,
   "metadata": {},
   "outputs": [],
   "source": [
    "# Heatmap for correlation between the whold df and logerror, then another with just a selected few"
   ]
  },
  {
   "cell_type": "code",
   "execution_count": 34,
   "metadata": {},
   "outputs": [
    {
     "data": {
      "text/plain": [
       "<AxesSubplot:title={'center':'Feautures  Correlating with logerror'}>"
      ]
     },
     "execution_count": 34,
     "metadata": {},
     "output_type": "execute_result"
    },
    {
     "data": {
      "image/png": "[encoded data removed]",
      "text/plain": [
       "<Figure size 1008x864 with 2 Axes>"
      ]
     },
     "metadata": {
      "needs_background": "light"
     },
     "output_type": "display_data"
    }
   ],
   "source": [
    "explore.get_heatmap(df, 'logerror', color=\"cool_r\")"
   ]
  },
  {
   "cell_type": "code",
   "execution_count": 35,
   "metadata": {},
   "outputs": [],
   "source": [
    "col_list = train[['logerror', 'bathroomcnt', 'bedroomcnt', 'structure_dollar_per_sqft', 'age', 'acres']]"
   ]
  },
  {
   "cell_type": "code",
   "execution_count": 36,
   "metadata": {},
   "outputs": [
    {
     "data": {
      "text/plain": [
       "<AxesSubplot:title={'center':'Feautures  Correlating with logerror'}>"
      ]
     },
     "execution_count": 36,
     "metadata": {},
     "output_type": "execute_result"
    },
    {
     "data": {
      "image/png": "[encoded data removed]",
      "text/plain": [
       "<Figure size 1008x864 with 2 Axes>"
      ]
     },
     "metadata": {
      "needs_background": "light"
     },
     "output_type": "display_data"
    }
   ],
   "source": [
    "explore.get_heatmap(col_list, 'logerror', color=\"BuPu\")"
   ]
  },
  {
   "cell_type": "code",
   "execution_count": null,
   "metadata": {},
   "outputs": [],
   "source": []
  },
  {
   "cell_type": "markdown",
   "metadata": {},
   "source": [
    "### Hypothesis testing\n",
    " * Run stats tests on structure_collar_per_sqft and bedroomcnt since they both have the highest correlation."
   ]
  },
  {
   "cell_type": "markdown",
   "metadata": {},
   "source": [
    "#### age and structure_dollar_per_sqft have the most correlation and since they both are continuous and now I will run a pearson r\n",
    "\n",
    "\n",
    "${H_0}$ : There is no difference in bedroom count and logerror.\n",
    "\n",
    "${H_a}$: There is a difference bedroom and logerror."
   ]
  },
  {
   "cell_type": "markdown",
   "metadata": {},
   "source": [
    "### Pearson R"
   ]
  },
  {
   "cell_type": "code",
   "execution_count": 37,
   "metadata": {},
   "outputs": [
    {
     "name": "stdout",
     "output_type": "stream",
     "text": [
      "0.03078582893629175 2.0779328959696844e-07\n"
     ]
    }
   ],
   "source": [
    "corr, p = stats.pearsonr(train.bedroomcnt, train.logerror)\n",
    "print(corr, p)"
   ]
  },
  {
   "cell_type": "code",
   "execution_count": 38,
   "metadata": {},
   "outputs": [
    {
     "name": "stdout",
     "output_type": "stream",
     "text": [
      " We reject the null hypothesis,  There is no relationship between bedroom count and logerror\n"
     ]
    }
   ],
   "source": [
    "alpha= 0.05\n",
    "null = 'There is no relationship between bedroom count and logerror'\n",
    "if p < alpha:\n",
    "    print(f' We reject the null hypothesis,  {null}')\n",
    "else:\n",
    "    print(f' We do not reject the null hypothesis, {null}')"
   ]
  },
  {
   "cell_type": "code",
   "execution_count": 39,
   "metadata": {},
   "outputs": [
    {
     "name": "stdout",
     "output_type": "stream",
     "text": [
      "-0.02935259881914694 7.406226906265324e-07\n"
     ]
    }
   ],
   "source": [
    "corr, p = stats.pearsonr(train.structure_dollar_per_sqft, train.logerror)\n",
    "print(corr, p)"
   ]
  },
  {
   "cell_type": "code",
   "execution_count": 40,
   "metadata": {},
   "outputs": [
    {
     "name": "stdout",
     "output_type": "stream",
     "text": [
      " We reject the null hypothesis,  There is no relationship between structure_dollar_per_sqft and logerror\n"
     ]
    }
   ],
   "source": [
    "alpha= 0.05\n",
    "null = 'There is no relationship between structure_dollar_per_sqft and logerror'\n",
    "if p < alpha:\n",
    "    print(f' We reject the null hypothesis,  {null}')\n",
    "else:\n",
    "    print(f' We do not reject the null hypothesis, {null}')"
   ]
  },
  {
   "cell_type": "markdown",
   "metadata": {},
   "source": [
    "#### Takeaways \n",
    "   * The bedroom count and structure dollar per square foot had the highest correlation according to the heatmap\n",
    "   * However, in the Pearson r test, there was no correlation between either since they were lower than the p value"
   ]
  },
  {
   "cell_type": "markdown",
   "metadata": {},
   "source": [
    "## Scale\n",
    " * Scale the data before clustering"
   ]
  },
  {
   "cell_type": "code",
   "execution_count": 41,
   "metadata": {},
   "outputs": [
    {
     "data": {
      "text/html": [
       "<div>\n",
       "<style scoped>\n",
       "    .dataframe tbody tr th:only-of-type {\n",
       "        vertical-align: middle;\n",
       "    }\n",
       "\n",
       "    .dataframe tbody tr th {\n",
       "        vertical-align: top;\n",
       "    }\n",
       "\n",
       "    .dataframe thead th {\n",
       "        text-align: right;\n",
       "    }\n",
       "</style>\n",
       "<table border=\"1\" class=\"dataframe\">\n",
       "  <thead>\n",
       "    <tr style=\"text-align: right;\">\n",
       "      <th></th>\n",
       "      <th>age</th>\n",
       "      <th>acres</th>\n",
       "    </tr>\n",
       "  </thead>\n",
       "  <tbody>\n",
       "    <tr>\n",
       "      <th>41512</th>\n",
       "      <td>21.0</td>\n",
       "      <td>0.180005</td>\n",
       "    </tr>\n",
       "    <tr>\n",
       "      <th>33370</th>\n",
       "      <td>42.0</td>\n",
       "      <td>0.024725</td>\n",
       "    </tr>\n",
       "    <tr>\n",
       "      <th>3593</th>\n",
       "      <td>64.0</td>\n",
       "      <td>0.131474</td>\n",
       "    </tr>\n",
       "    <tr>\n",
       "      <th>37533</th>\n",
       "      <td>60.0</td>\n",
       "      <td>0.119628</td>\n",
       "    </tr>\n",
       "    <tr>\n",
       "      <th>31945</th>\n",
       "      <td>43.0</td>\n",
       "      <td>0.132805</td>\n",
       "    </tr>\n",
       "  </tbody>\n",
       "</table>\n",
       "</div>"
      ],
      "text/plain": [
       "        age     acres\n",
       "41512  21.0  0.180005\n",
       "33370  42.0  0.024725\n",
       "3593   64.0  0.131474\n",
       "37533  60.0  0.119628\n",
       "31945  43.0  0.132805"
      ]
     },
     "execution_count": 41,
     "metadata": {},
     "output_type": "execute_result"
    }
   ],
   "source": [
    "# define independent variables for k-means\n",
    "\n",
    "X = train[['age', 'acres']]\n",
    "X.head()"
   ]
  },
  {
   "cell_type": "code",
   "execution_count": 42,
   "metadata": {},
   "outputs": [],
   "source": [
    "# Scale the X\n",
    "\n",
    "from sklearn.preprocessing import StandardScaler\n",
    "\n",
    "scaler = StandardScaler().fit(X)\n",
    "X_scaled = pd.DataFrame(scaler.transform(X), columns= X.columns).set_index([X.index.values])"
   ]
  },
  {
   "cell_type": "markdown",
   "metadata": {},
   "source": [
    "### KMeans"
   ]
  },
  {
   "cell_type": "code",
   "execution_count": 43,
   "metadata": {},
   "outputs": [
    {
     "data": {
      "text/plain": [
       "array([0, 0, 1, ..., 1, 0, 1], dtype=int32)"
      ]
     },
     "execution_count": 43,
     "metadata": {},
     "output_type": "execute_result"
    }
   ],
   "source": [
    "# sklearn implementation of KMeans\n",
    "\n",
    "#define the thing\n",
    "kmeans = KMeans(n_clusters=3, random_state = 123)\n",
    "\n",
    "# fit the thing\n",
    "kmeans.fit(X_scaled)\n",
    "\n",
    "# Use (predict using) the thing \n",
    "kmeans.predict(X_scaled)"
   ]
  },
  {
   "cell_type": "markdown",
   "metadata": {},
   "source": [
    "### Cluster 1\n",
    " * Age and Acres"
   ]
  },
  {
   "cell_type": "code",
   "execution_count": 44,
   "metadata": {},
   "outputs": [],
   "source": [
    "# make a new column names cluster in iris and X_scaled dataframe\n",
    "\n",
    "train['cluster'] = kmeans.predict(X_scaled)"
   ]
  },
  {
   "cell_type": "code",
   "execution_count": 45,
   "metadata": {},
   "outputs": [
    {
     "data": {
      "text/plain": [
       "array([[-1.04796225e+00,  2.53235867e-02],\n",
       "       [ 6.21779865e-01, -2.67212275e-02],\n",
       "       [-1.27754917e+00,  1.04395769e+02]])"
      ]
     },
     "execution_count": 45,
     "metadata": {},
     "output_type": "execute_result"
    }
   ],
   "source": [
    "# Cluster Centers aka centroids. The output is scaled!!\n",
    "\n",
    "kmeans.cluster_centers_"
   ]
  },
  {
   "cell_type": "code",
   "execution_count": 46,
   "metadata": {},
   "outputs": [
    {
     "data": {
      "text/html": [
       "<div>\n",
       "<style scoped>\n",
       "    .dataframe tbody tr th:only-of-type {\n",
       "        vertical-align: middle;\n",
       "    }\n",
       "\n",
       "    .dataframe tbody tr th {\n",
       "        vertical-align: top;\n",
       "    }\n",
       "\n",
       "    .dataframe thead th {\n",
       "        text-align: right;\n",
       "    }\n",
       "</style>\n",
       "<table border=\"1\" class=\"dataframe\">\n",
       "  <thead>\n",
       "    <tr style=\"text-align: right;\">\n",
       "      <th></th>\n",
       "      <th>age</th>\n",
       "      <th>acres</th>\n",
       "    </tr>\n",
       "  </thead>\n",
       "  <tbody>\n",
       "    <tr>\n",
       "      <th>0</th>\n",
       "      <td>-1.047962</td>\n",
       "      <td>0.025324</td>\n",
       "    </tr>\n",
       "    <tr>\n",
       "      <th>1</th>\n",
       "      <td>0.621780</td>\n",
       "      <td>-0.026721</td>\n",
       "    </tr>\n",
       "    <tr>\n",
       "      <th>2</th>\n",
       "      <td>-1.277549</td>\n",
       "      <td>104.395769</td>\n",
       "    </tr>\n",
       "  </tbody>\n",
       "</table>\n",
       "</div>"
      ],
      "text/plain": [
       "        age       acres\n",
       "0 -1.047962    0.025324\n",
       "1  0.621780   -0.026721\n",
       "2 -1.277549  104.395769"
      ]
     },
     "execution_count": 46,
     "metadata": {},
     "output_type": "execute_result"
    }
   ],
   "source": [
    "# Make a dataframe \n",
    "centroids_scaled  = pd.DataFrame(kmeans.cluster_centers_, columns = X.columns)\n",
    "centroids_scaled"
   ]
  },
  {
   "cell_type": "code",
   "execution_count": 47,
   "metadata": {},
   "outputs": [
    {
     "data": {
      "text/html": [
       "<div>\n",
       "<style scoped>\n",
       "    .dataframe tbody tr th:only-of-type {\n",
       "        vertical-align: middle;\n",
       "    }\n",
       "\n",
       "    .dataframe tbody tr th {\n",
       "        vertical-align: top;\n",
       "    }\n",
       "\n",
       "    .dataframe thead th {\n",
       "        text-align: right;\n",
       "    }\n",
       "</style>\n",
       "<table border=\"1\" class=\"dataframe\">\n",
       "  <thead>\n",
       "    <tr style=\"text-align: right;\">\n",
       "      <th></th>\n",
       "      <th>age</th>\n",
       "      <th>acres</th>\n",
       "    </tr>\n",
       "    <tr>\n",
       "      <th>cluster</th>\n",
       "      <th></th>\n",
       "      <th></th>\n",
       "    </tr>\n",
       "  </thead>\n",
       "  <tbody>\n",
       "    <tr>\n",
       "      <th>0</th>\n",
       "      <td>30.260204</td>\n",
       "      <td>0.284200</td>\n",
       "    </tr>\n",
       "    <tr>\n",
       "      <th>1</th>\n",
       "      <td>68.547120</td>\n",
       "      <td>0.205417</td>\n",
       "    </tr>\n",
       "    <tr>\n",
       "      <th>2</th>\n",
       "      <td>25.000000</td>\n",
       "      <td>160.032369</td>\n",
       "    </tr>\n",
       "  </tbody>\n",
       "</table>\n",
       "</div>"
      ],
      "text/plain": [
       "               age       acres\n",
       "cluster                       \n",
       "0        30.260204    0.284200\n",
       "1        68.547120    0.205417\n",
       "2        25.000000  160.032369"
      ]
     },
     "execution_count": 47,
     "metadata": {},
     "output_type": "execute_result"
    }
   ],
   "source": [
    "# Centriods for unscaled data?\n",
    "centroids = train.groupby('cluster')['age', 'acres'].mean()\n",
    "centroids"
   ]
  },
  {
   "cell_type": "code",
   "execution_count": 48,
   "metadata": {},
   "outputs": [
    {
     "data": {
      "text/plain": [
       "array([0, 0, 1, ..., 1, 0, 1], dtype=int32)"
      ]
     },
     "execution_count": 48,
     "metadata": {},
     "output_type": "execute_result"
    }
   ],
   "source": [
    "kmeans.labels_"
   ]
  },
  {
   "cell_type": "code",
   "execution_count": null,
   "metadata": {},
   "outputs": [],
   "source": [
    "# plot inertia vs k \n",
    "with plt.style.context('seaborn-whitegrid'):\n",
    "    plt.figure(figsize=(9, 6))\n",
    "    pd.Series({k: KMeans(k).fit(X_scaled).inertia_ for k in range(2, 12)}).plot(marker='x')\n",
    "    plt.xticks(range(2, 12))\n",
    "    plt.xlabel('k')\n",
    "    plt.ylabel('inertia')\n",
    "    plt.title('Change in inertia as k increases')"
   ]
  },
  {
   "cell_type": "code",
   "execution_count": null,
   "metadata": {},
   "outputs": [],
   "source": [
    "# What value of k is appropriate?  K = 3 would be the best option\n",
    "\n",
    "fig, axs = plt.subplots(2, 2, figsize=(13, 13), sharex=True, sharey=True)\n",
    "\n",
    "for ax, k in zip(axs.ravel(), range(2, 6)):\n",
    "    clusters = KMeans(k).fit(X_scaled).predict(X_scaled)\n",
    "    ax.scatter(X.age, X.acres, c=clusters)\n",
    "    ax.set(title='k = {}'.format(k), xlabel='age', ylabel='acres')"
   ]
  },
  {
   "cell_type": "code",
   "execution_count": null,
   "metadata": {},
   "outputs": [],
   "source": [
    "# lets visualize the clusters along with the centers on scaled data for 3 k per inertia above.\n",
    "\n",
    "plt.figure(figsize=(14, 9))\n",
    "\n",
    "# scatter plot of data with hue for cluster\n",
    "sns.scatterplot(x = 'age', y ='acres', data = train, hue = 'cluster')\n",
    "\n",
    "# plot cluster centers (centroids)\n",
    "centroids.plot.scatter(x = 'age', y = 'acres',\n",
    "                             ax = plt.gca(),\n",
    "                             s= 800,\n",
    "                             color = 'k',\n",
    "                             alpha = 0.3,\n",
    "                             label = 'centroids')\n",
    "\n",
    "plt.title('Visualizing Cluster Centers')\n",
    "plt.legend();"
   ]
  },
  {
   "cell_type": "code",
   "execution_count": null,
   "metadata": {},
   "outputs": [],
   "source": [
    "train['fips'].value_counts()"
   ]
  },
  {
   "cell_type": "code",
   "execution_count": null,
   "metadata": {},
   "outputs": [],
   "source": [
    "# this is the map of the longitude and latitude showing the clusters based on age and acres\n",
    "sns.scatterplot(data=train, x='latitude', y='longitude', hue= 'cluster')"
   ]
  },
  {
   "cell_type": "code",
   "execution_count": null,
   "metadata": {},
   "outputs": [],
   "source": [
    "sns.scatterplot(data=train, x='latitude', y='longitude', hue= 'fips')"
   ]
  },
  {
   "cell_type": "markdown",
   "metadata": {},
   "source": [
    "### Cluster 2\n",
    " * Cluster bedroomcnt and bathroomcnt"
   ]
  },
  {
   "cell_type": "code",
   "execution_count": null,
   "metadata": {},
   "outputs": [],
   "source": [
    "X2 = train[['bedroomcnt', 'bathroomcnt']]\n",
    "X2.head(3)"
   ]
  },
  {
   "cell_type": "code",
   "execution_count": null,
   "metadata": {},
   "outputs": [],
   "source": [
    "# Scale the X2\n",
    "\n",
    "from sklearn.preprocessing import StandardScaler\n",
    "\n",
    "scaler2 = StandardScaler().fit(X2)\n",
    "X_scaled2 = pd.DataFrame(scaler.transform(X2), columns= X2.columns).set_index([X2.index.values])"
   ]
  },
  {
   "cell_type": "code",
   "execution_count": null,
   "metadata": {},
   "outputs": [],
   "source": [
    "# sklearn implementation of KMeans\n",
    "\n",
    "#define the thing\n",
    "kmeans = KMeans(n_clusters=3, random_state = 123)\n",
    "\n",
    "# fit the thing\n",
    "kmeans.fit(X_scaled2)\n",
    "\n",
    "# Use (predict using) the thing \n",
    "kmeans.predict(X_scaled2)"
   ]
  },
  {
   "cell_type": "code",
   "execution_count": null,
   "metadata": {},
   "outputs": [],
   "source": [
    "# make a new column names cluster in iris and X_scaled dataframe\n",
    "\n",
    "train['cluster2'] = kmeans.predict(X_scaled2)\n",
    "train['cluster2']"
   ]
  },
  {
   "cell_type": "code",
   "execution_count": null,
   "metadata": {},
   "outputs": [],
   "source": [
    "# Cluster Centers aka centroids. The output is scaled!!\n",
    "\n",
    "kmeans.cluster_centers_"
   ]
  },
  {
   "cell_type": "code",
   "execution_count": null,
   "metadata": {},
   "outputs": [],
   "source": [
    "# Make a dataframe \n",
    "centroids_scaled2  = pd.DataFrame(kmeans.cluster_centers_, columns = X2.columns)\n",
    "centroids_scaled2"
   ]
  },
  {
   "cell_type": "code",
   "execution_count": null,
   "metadata": {},
   "outputs": [],
   "source": [
    "# Centriods for unscaled data?\n",
    "centroids2 = train.groupby('cluster2')['bathroomcnt', 'bedroomcnt'].mean()\n",
    "centroids2"
   ]
  },
  {
   "cell_type": "code",
   "execution_count": null,
   "metadata": {},
   "outputs": [],
   "source": [
    "kmeans.labels_"
   ]
  },
  {
   "cell_type": "code",
   "execution_count": null,
   "metadata": {},
   "outputs": [],
   "source": [
    "# plot inertia vs k \n",
    "with plt.style.context('seaborn-whitegrid'):\n",
    "    plt.figure(figsize=(9, 6))\n",
    "    pd.Series({k: KMeans(k).fit(X_scaled2).inertia_ for k in range(2, 12)}).plot(marker='x')\n",
    "    plt.xticks(range(2, 12))\n",
    "    plt.xlabel('k')\n",
    "    plt.ylabel('inertia')\n",
    "    plt.title('Change in inertia as k increases')"
   ]
  },
  {
   "cell_type": "code",
   "execution_count": null,
   "metadata": {},
   "outputs": [],
   "source": [
    "# What value of k is appropriate?  K = 3 would be the best option\n",
    "\n",
    "fig, axs = plt.subplots(2, 2, figsize=(13, 13), sharex=True, sharey=True)\n",
    "\n",
    "for ax, k in zip(axs.ravel(), range(2, 6)):\n",
    "    clusters = KMeans(k).fit(X_scaled2).predict(X_scaled2)\n",
    "    ax.scatter(X2.bedroomcnt, X2.bathroomcnt, c=clusters)\n",
    "    ax.set(title='k = {}'.format(k), xlabel='bed', ylabel='bath')"
   ]
  },
  {
   "cell_type": "code",
   "execution_count": null,
   "metadata": {},
   "outputs": [],
   "source": [
    "# this is the map of the longitude and latitude showing the clusters based on bedroom count and bathroom count\n",
    "sns.scatterplot(data=train, x='latitude', y='longitude', hue= 'cluster2')"
   ]
  },
  {
   "cell_type": "code",
   "execution_count": null,
   "metadata": {},
   "outputs": [],
   "source": [
    "train[['cluster', 'cluster2']]"
   ]
  },
  {
   "cell_type": "code",
   "execution_count": null,
   "metadata": {},
   "outputs": [],
   "source": [
    "train.columns"
   ]
  },
  {
   "cell_type": "code",
   "execution_count": null,
   "metadata": {},
   "outputs": [],
   "source": [
    "X3 = train[['structure_dollar_per_sqft', 'taxvaluedollarcnt']]\n",
    "X3.head(3)"
   ]
  },
  {
   "cell_type": "markdown",
   "metadata": {},
   "source": [
    "### Cluster 3\n",
    " * Cluster structure_dollar_per_sqft and taxvaluedollarcnt."
   ]
  },
  {
   "cell_type": "code",
   "execution_count": null,
   "metadata": {},
   "outputs": [],
   "source": [
    "# Scale the X3\n",
    "\n",
    "from sklearn.preprocessing import StandardScaler\n",
    "\n",
    "scaler3 = StandardScaler().fit(X3)\n",
    "X_scaled3 = pd.DataFrame(scaler.transform(X3), columns= X3.columns).set_index([X3.index.values])"
   ]
  },
  {
   "cell_type": "code",
   "execution_count": null,
   "metadata": {},
   "outputs": [],
   "source": [
    "# sklearn implementation of KMeans\n",
    "\n",
    "#define the thing\n",
    "kmeans = KMeans(n_clusters=3, random_state = 123)\n",
    "\n",
    "# fit the thing\n",
    "kmeans.fit(X_scaled3)\n",
    "\n",
    "# Use (predict using) the thing \n",
    "kmeans.predict(X_scaled3)"
   ]
  },
  {
   "cell_type": "code",
   "execution_count": null,
   "metadata": {},
   "outputs": [],
   "source": [
    "# make a new column names cluster in train and X_scaled dataframe\n",
    "\n",
    "train['cluster3'] = kmeans.predict(X_scaled3)\n",
    "train['cluster3']"
   ]
  },
  {
   "cell_type": "code",
   "execution_count": null,
   "metadata": {},
   "outputs": [],
   "source": [
    "# Cluster Centers aka centroids. The output is scaled!!\n",
    "\n",
    "kmeans.cluster_centers_"
   ]
  },
  {
   "cell_type": "code",
   "execution_count": null,
   "metadata": {},
   "outputs": [],
   "source": [
    "# Make a dataframe \n",
    "centroids_scaled3  = pd.DataFrame(kmeans.cluster_centers_, columns = X3.columns)\n",
    "centroids_scaled3"
   ]
  },
  {
   "cell_type": "code",
   "execution_count": null,
   "metadata": {},
   "outputs": [],
   "source": [
    "# Centriods for unscaled data?\n",
    "centroids3 = train.groupby('cluster3')['structure_dollar_per_sqft', 'taxvaluedollarcnt'].mean()\n",
    "centroids3"
   ]
  },
  {
   "cell_type": "code",
   "execution_count": null,
   "metadata": {},
   "outputs": [],
   "source": [
    "kmeans.labels_"
   ]
  },
  {
   "cell_type": "code",
   "execution_count": null,
   "metadata": {},
   "outputs": [],
   "source": [
    "# plot inertia vs k \n",
    "with plt.style.context('seaborn-whitegrid'):\n",
    "    plt.figure(figsize=(9, 6))\n",
    "    pd.Series({k: KMeans(k).fit(X_scaled3).inertia_ for k in range(2, 12)}).plot(marker='x')\n",
    "    plt.xticks(range(2, 12))\n",
    "    plt.xlabel('k')\n",
    "    plt.ylabel('inertia')\n",
    "    plt.title('Change in inertia as k increases')"
   ]
  },
  {
   "cell_type": "code",
   "execution_count": null,
   "metadata": {},
   "outputs": [],
   "source": [
    "# What value of k is appropriate?  K = 3 would be the best option\n",
    "\n",
    "fig, axs = plt.subplots(2, 2, figsize=(13, 13), sharex=True, sharey=True)\n",
    "\n",
    "for ax, k in zip(axs.ravel(), range(2, 6)):\n",
    "    clusters = KMeans(k).fit(X_scaled3).predict(X_scaled3)\n",
    "    ax.scatter(X3.structure_dollar_per_sqft, X3.taxvaluedollarcnt, c=clusters)\n",
    "    ax.set(title='k = {}'.format(k), xlabel='bed', ylabel='bath')"
   ]
  },
  {
   "cell_type": "markdown",
   "metadata": {},
   "source": [
    "### Stats testing"
   ]
  },
  {
   "cell_type": "code",
   "execution_count": null,
   "metadata": {},
   "outputs": [],
   "source": [
    "explore.get_heatmap(train, 'logerror',  color = 'inferno')"
   ]
  },
  {
   "cell_type": "code",
   "execution_count": null,
   "metadata": {},
   "outputs": [],
   "source": [
    "train.columns"
   ]
  },
  {
   "cell_type": "code",
   "execution_count": null,
   "metadata": {},
   "outputs": [],
   "source": [
    "#Creating column list with clusters as part of features\n",
    "clusters_fts= train[['logerror','bathroomcnt', 'bedroomcnt', 'latitude', 'longitude', 'age', 'acres', 'structure_dollar_per_sqft', 'taxvaluedollarcnt']]"
   ]
  },
  {
   "cell_type": "code",
   "execution_count": null,
   "metadata": {},
   "outputs": [],
   "source": [
    "#Looking at correlation heatmap for features listed above\n",
    "explore.get_heatmap(clusters_fts, 'logerror', color= 'twilight_shifted' )"
   ]
  },
  {
   "cell_type": "code",
   "execution_count": null,
   "metadata": {},
   "outputs": [],
   "source": [
    "# Is there a relationship between logerror and bedroomcnt?"
   ]
  },
  {
   "cell_type": "code",
   "execution_count": null,
   "metadata": {},
   "outputs": [],
   "source": [
    "corr_clust1, p_clust1= stats.pearsonr(train.logerror, train.cluster)\n",
    "print(corr_clust1,p_clust1)"
   ]
  },
  {
   "cell_type": "code",
   "execution_count": null,
   "metadata": {},
   "outputs": [],
   "source": [
    "alpha= 0.05\n",
    "\n",
    "null = 'There is no relationship between logerror and cluster'\n",
    "\n",
    "if p_clust1 < alpha:\n",
    "    print(f' we reject the null hypothesis,  {null}')\n",
    "else:\n",
    "    print(f' we do not reject the null hypothesis, {null}')"
   ]
  },
  {
   "cell_type": "code",
   "execution_count": null,
   "metadata": {},
   "outputs": [],
   "source": [
    "corr_clust2, p_clust2= stats.pearsonr(train.logerror, train.cluster2)\n",
    "print(corr_clust2 ,p_clust2)"
   ]
  },
  {
   "cell_type": "code",
   "execution_count": null,
   "metadata": {},
   "outputs": [],
   "source": [
    "alpha= 0.05\n",
    "\n",
    "null = 'There is no relationship between logerror and cluster2'\n",
    "\n",
    "if p_clust2 < alpha:\n",
    "    print(f' we reject the null hypothesis,  {null}')\n",
    "else:\n",
    "    print(f' we do not reject the null hypothesis, {null}')"
   ]
  },
  {
   "cell_type": "code",
   "execution_count": null,
   "metadata": {},
   "outputs": [],
   "source": []
  },
  {
   "cell_type": "code",
   "execution_count": null,
   "metadata": {},
   "outputs": [],
   "source": []
  },
  {
   "cell_type": "markdown",
   "metadata": {},
   "source": [
    "#### Takeaways \n",
    "\n",
    "* There is no relationship between the logerror and the clusters\n",
    "- Takeaways:\n",
    "-  Run models using other variables "
   ]
  },
  {
   "cell_type": "code",
   "execution_count": null,
   "metadata": {},
   "outputs": [],
   "source": []
  },
  {
   "cell_type": "markdown",
   "metadata": {},
   "source": [
    "## Model"
   ]
  },
  {
   "cell_type": "code",
   "execution_count": null,
   "metadata": {},
   "outputs": [],
   "source": [
    "train.columns"
   ]
  },
  {
   "cell_type": "code",
   "execution_count": null,
   "metadata": {},
   "outputs": [],
   "source": [
    "# Make sure the target is not in the train\n",
    "train = train.drop(columns=['logerror', 'logerror_bins'])\n",
    "train.columns.tolist()"
   ]
  },
  {
   "cell_type": "code",
   "execution_count": null,
   "metadata": {},
   "outputs": [],
   "source": [
    "X_train, y_train, X_validate, y_validate, X_test, y_test = prepare.train_validate_test(df, 'logerror')"
   ]
  },
  {
   "cell_type": "code",
   "execution_count": null,
   "metadata": {},
   "outputs": [],
   "source": [
    "X_train.head()"
   ]
  },
  {
   "cell_type": "code",
   "execution_count": null,
   "metadata": {},
   "outputs": [],
   "source": []
  },
  {
   "cell_type": "code",
   "execution_count": null,
   "metadata": {},
   "outputs": [],
   "source": [
    "X_train.shape, y_train.shape, X_validate.shape, y_validate.shape, X_test.shape, y_test.shape"
   ]
  },
  {
   "cell_type": "markdown",
   "metadata": {},
   "source": [
    "#### Baseline"
   ]
  },
  {
   "cell_type": "code",
   "execution_count": null,
   "metadata": {},
   "outputs": [],
   "source": [
    "# We need y_train and y_validate to be dataframes to append the new columns with predicted values. \n",
    "y_train = pd.DataFrame(y_train)\n",
    "y_validate = pd.DataFrame(y_validate)\n",
    "\n",
    "# 1. Predict logerror_pred_mean\n",
    "logerror_pred_mean = y_train.logerror.mean()\n",
    "y_train['logerror_pred_mean'] = logerror_pred_mean\n",
    "y_validate['logerror_pred_mean'] = logerror_pred_mean\n",
    "\n",
    "# 2. compute logerror_pred_median\n",
    "logerror_pred_median = y_train.logerror.median()\n",
    "y_train['logerror_pred_median'] = logerror_pred_median\n",
    "y_validate['logerror_pred_median'] = logerror_pred_median\n",
    "\n",
    "# 3. RMSE of logerror_pred_mean\n",
    "rmse_train = mean_squared_error(y_train.logerror, y_train.logerror_pred_mean) ** 0.5\n",
    "rmse_validate = mean_squared_error(y_validate.logerror, y_validate.logerror_pred_mean) ** 0.5\n",
    "\n",
    "print(\"RMSE using Mean\\nTrain/In-Sample: \", round(rmse_train, 2), \n",
    "      \"\\nValidate/Out-of-Sample: \", round(rmse_validate, 2))\n",
    "\n",
    "# 4. RMSE of logerror_pred_median\n",
    "rmse_train = mean_squared_error(y_train.logerror, y_train.logerror_pred_median) ** .5\n",
    "rmse_validate = mean_squared_error(y_validate.logerror, y_validate.logerror_pred_median) ** .5\n",
    "print(\"RMSE using Median\\nTrain/In-Sample: \", round(rmse_train, 2), \n",
    "      \"\\nValidate/Out-of-Sample: \", round(rmse_validate, 2))"
   ]
  },
  {
   "cell_type": "code",
   "execution_count": null,
   "metadata": {},
   "outputs": [],
   "source": [
    "y_train.head()"
   ]
  },
  {
   "cell_type": "code",
   "execution_count": null,
   "metadata": {},
   "outputs": [],
   "source": [
    "# plot to visualize actual vs predicted. \n",
    "plt.hist(y_train.logerror, color='blue', alpha=.5, label=\"Logerror\")\n",
    "plt.hist(y_train.logerror_pred_mean, bins=1, color='red', alpha=.5, rwidth=100, label=\"Predicted Logerror - Mean\")\n",
    "plt.hist(y_train.logerror_pred_median, bins=1, color='orange', alpha=.5, rwidth=100, label=\"Predicted Final Grades - Median\")\n",
    "plt.xlabel(\"Logerror\")\n",
    "plt.ylabel(\"Predicted Logerror\")\n",
    "plt.legend()\n",
    "plt.show()"
   ]
  },
  {
   "cell_type": "code",
   "execution_count": null,
   "metadata": {},
   "outputs": [],
   "source": [
    "metric_df = pd.DataFrame(data=[{\n",
    "    'model': 'mean_baseline', \n",
    "    'rmse_validate': rmse_validate,\n",
    "    'r^2_validate': explained_variance_score(y_validate.logerror, y_validate.logerror_pred_mean)}])"
   ]
  },
  {
   "cell_type": "code",
   "execution_count": null,
   "metadata": {},
   "outputs": [],
   "source": [
    "metric_df"
   ]
  },
  {
   "cell_type": "code",
   "execution_count": null,
   "metadata": {},
   "outputs": [],
   "source": [
    "y_train.head(2)"
   ]
  },
  {
   "cell_type": "code",
   "execution_count": null,
   "metadata": {},
   "outputs": [],
   "source": []
  },
  {
   "cell_type": "markdown",
   "metadata": {},
   "source": [
    "### Linear Regression - (OLS)"
   ]
  },
  {
   "cell_type": "code",
   "execution_count": null,
   "metadata": {},
   "outputs": [],
   "source": [
    "X_train.info()"
   ]
  },
  {
   "cell_type": "code",
   "execution_count": null,
   "metadata": {},
   "outputs": [],
   "source": [
    "# X_train list\n",
    "X1 = ['bathroomcnt', 'bedroomcnt', 'latitude', 'longitude', 'structure_dollar_per_sqft', 'age']\n",
    "X2 = ['bathroomcnt', 'bedroomcnt', 'latitude', 'longitude', 'age', 'acres', 'structure_dollar_per_sqft']"
   ]
  },
  {
   "cell_type": "code",
   "execution_count": null,
   "metadata": {},
   "outputs": [],
   "source": [
    "# create the model object\n",
    "# \n",
    "# make the thing\n",
    "# \n",
    "lm = LinearRegression(normalize=True)\n",
    "\n",
    "# fit the model to our training data. We must specify the column in y_train, \n",
    "# since we have converted it to a dataframe from a series! \n",
    "# \n",
    "# fit the thing\n",
    "# \n",
    "lm.fit(X_train[X1], y_train.logerror)\n",
    "\n",
    "# predict train\n",
    "# \n",
    "# use the thing!\n",
    "# \n",
    "y_train['logerror_pred_lm'] = lm.predict(X_train[X1])\n",
    "# evaluate: rmse\n",
    "rmse_train = mean_squared_error(y_train.logerror, y_train.logerror_pred_lm) ** (1/2)\n",
    "# predict validate\n",
    "y_validate['logerror_pred_lm'] = lm.predict(X_validate[X1])\n",
    "\n",
    "# evaluate: rmse\n",
    "rmse_validate = mean_squared_error(y_validate.logerror, y_validate.logerror_pred_lm) ** (1/2)\n",
    "\n",
    "print(\"RMSE for OLS using LinearRegression\\nTraining/In-Sample: \", rmse_train, \n",
    "      \"\\nValidation/Out-of-Sample: \", rmse_validate)"
   ]
  },
  {
   "cell_type": "code",
   "execution_count": null,
   "metadata": {},
   "outputs": [],
   "source": [
    "metric_df = metric_df.append(\n",
    "    {\n",
    "    'model': 'OLS lm 1', \n",
    "    'rmse_validate': rmse_validate,\n",
    "    'r^2_validate': explained_variance_score(y_validate.logerror, y_validate.logerror_pred_lm)}, ignore_index=True)"
   ]
  },
  {
   "cell_type": "code",
   "execution_count": null,
   "metadata": {},
   "outputs": [],
   "source": [
    "metric_df"
   ]
  },
  {
   "cell_type": "markdown",
   "metadata": {},
   "source": [
    "### LassoLars"
   ]
  },
  {
   "cell_type": "code",
   "execution_count": null,
   "metadata": {},
   "outputs": [],
   "source": [
    "# create the model object\n",
    "lars = LassoLars(alpha=1)\n",
    "\n",
    "# fit the model to our training data. We must specify the column in y_train, \n",
    "# since we have converted it to a dataframe from a series!\n",
    "lars.fit(X_train[X1], y_train.logerror)\n",
    "\n",
    "# predict train\n",
    "y_train['logerror_pred_lars'] = lars.predict(X_train[X1])\n",
    "\n",
    "# evaluate: rmse\n",
    "rmse_train = mean_squared_error(y_train.logerror, y_train.logerror_pred_lars) ** 0.5\n",
    "\n",
    "# predict validate\n",
    "y_validate['logerror_pred_lars'] = lars.predict(X_validate[X1])\n",
    "\n",
    "# evaluate: rmse\n",
    "rmse_validate = mean_squared_error(y_validate.logerror, y_validate.logerror_pred_lars) ** 0.5\n",
    "\n",
    "print(\"RMSE for Lasso + Lars\\nTraining/In-Sample: \", rmse_train, \n",
    "      \"\\nValidation/Out-of-Sample: \", rmse_validate)"
   ]
  },
  {
   "cell_type": "code",
   "execution_count": null,
   "metadata": {},
   "outputs": [],
   "source": [
    "metric_df = metric_df.append(\n",
    "    {\n",
    "    'model': 'LassoLars alpha 1', \n",
    "    'rmse_validate': rmse_validate,\n",
    "    'r^2_validate': explained_variance_score(y_validate.logerror, y_validate.logerror_pred_lars)}, ignore_index=True)"
   ]
  },
  {
   "cell_type": "code",
   "execution_count": null,
   "metadata": {},
   "outputs": [],
   "source": [
    "metric_df"
   ]
  },
  {
   "cell_type": "markdown",
   "metadata": {},
   "source": [
    "### Polynomial"
   ]
  },
  {
   "cell_type": "code",
   "execution_count": null,
   "metadata": {},
   "outputs": [],
   "source": [
    "# make the polynomial features to get a new set of features\n",
    "pf = PolynomialFeatures(degree=2)\n",
    "\n",
    "# fit and transform X_train_scaled\n",
    "X_train_degree2 = pf.fit_transform(X_train[X1])\n",
    "\n",
    "# transform X_validate_scaled & X_test_scaled\n",
    "X_validate_degree2 = pf.transform(X_validate[X1])\n",
    "X_test_degree2 = pf.transform(X_test[X1])"
   ]
  },
  {
   "cell_type": "code",
   "execution_count": null,
   "metadata": {},
   "outputs": [],
   "source": [
    "y_train.head(2)"
   ]
  },
  {
   "cell_type": "code",
   "execution_count": null,
   "metadata": {},
   "outputs": [],
   "source": [
    "# create the model object\n",
    "# \n",
    "# make the thing\n",
    "# \n",
    "lm2 = LinearRegression(normalize=True)\n",
    "\n",
    "# fit the model to our training data. We must specify the column in y_train, \n",
    "# since we have converted it to a dataframe from a series! \n",
    "# \n",
    "# fit the thing\n",
    "# \n",
    "lm2.fit(X_train_degree2, y_train.logerror)"
   ]
  },
  {
   "cell_type": "code",
   "execution_count": null,
   "metadata": {},
   "outputs": [],
   "source": [
    "# predict train\n",
    "# \n",
    "# use the thing!\n",
    "# \n",
    "y_train['logerror_pred_lm2'] = lm2.predict(X_train_degree2)\n",
    "# evaluate: rmse\n",
    "rmse_train_poly = mean_squared_error(y_train.logerror, y_train.logerror_pred_lm2) ** (1/2)\n",
    "# predict validate\n",
    "y_validate['logerror_pred_lm2'] = lm2.predict(X_validate_degree2)\n",
    "\n",
    "# evaluate: rmse\n",
    "rmse_validate_poly = mean_squared_error(y_validate.logerror, y_validate.logerror_pred_lm2) ** (1/2)\n",
    "\n",
    "print(\"RMSE for OLS using LinearRegression\\nTraining/In-Sample: \", rmse_train, \n",
    "      \"\\nValidation/Out-of-Sample: \", rmse_validate)"
   ]
  },
  {
   "cell_type": "code",
   "execution_count": null,
   "metadata": {},
   "outputs": [],
   "source": [
    "metric_df = metric_df.append(\n",
    "    {\n",
    "    'model': 'Quadratic Model',\n",
    "    'rmse_validate': rmse_validate_poly,\n",
    "    'r^2_validate': explained_variance_score(y_validate.logerror, y_validate.logerror_pred_lm2)}, ignore_index=True)"
   ]
  },
  {
   "cell_type": "code",
   "execution_count": null,
   "metadata": {},
   "outputs": [],
   "source": [
    "metric_df"
   ]
  },
  {
   "cell_type": "code",
   "execution_count": null,
   "metadata": {},
   "outputs": [],
   "source": []
  },
  {
   "cell_type": "code",
   "execution_count": null,
   "metadata": {},
   "outputs": [],
   "source": []
  },
  {
   "cell_type": "markdown",
   "metadata": {},
   "source": [
    "### Final Summary\n",
    "\n",
    "#### The goal of identifying the drivers for errors in Zestimates by incorporating clustering methodologies helped, but not by much.\n",
    "\n",
    "### Key Takeaways\n",
    "  * I found that the LassoLars model was the closet to the baseline accuracy.\n",
    "    *  with more time, I would review it further to see if there was any leakage.\n",
    "\n",
    "With more time: \n",
    " - would re-run the Clustering and models with removing the outliers\n",
    " - would like to find if there are better predictors of log error.\n",
    " - would like to explore 3-D clustering by adding latitude or acres.\n",
    " - explore less common features like a/c unit type and fireplaces.\n",
    " - would like to fill out the missing data so that there are even more data points to work with."
   ]
  },
  {
   "cell_type": "code",
   "execution_count": null,
   "metadata": {},
   "outputs": [],
   "source": []
  }
 ],
 "metadata": {
  "kernelspec": {
   "display_name": "Python 3",
   "language": "python",
   "name": "python3"
  },
  "language_info": {
   "codemirror_mode": {
    "name": "ipython",
    "version": 3
   },
   "file_extension": ".py",
   "mimetype": "text/x-python",
   "name": "python",
   "nbconvert_exporter": "python",
   "pygments_lexer": "ipython3",
   "version": "3.8.5"
  }
 },
 "nbformat": 4,
 "nbformat_minor": 4
}
